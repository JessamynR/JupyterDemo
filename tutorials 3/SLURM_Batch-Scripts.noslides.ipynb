{
 "cells": [
  {
   "cell_type": "markdown",
   "metadata": {
    "slideshow": {
     "slide_type": "slide"
    }
   },
   "source": [
    "\n",
    "# SLURM: Jobs & Batch Scripts"
   ]
  },
  {
   "cell_type": "markdown",
   "metadata": {
    "slideshow": {
     "slide_type": "subslide"
    }
   },
   "source": [
    "## What Is A Job?"
   ]
  },
  {
   "cell_type": "markdown",
   "metadata": {
    "slideshow": {
     "slide_type": "fragment"
    }
   },
   "source": [
    "Fundamentally, a **job**, consists of two things: an allotment of resources & snippets of code to execute using that allotment. "
   ]
  },
  {
   "cell_type": "markdown",
   "metadata": {
    "slideshow": {
     "slide_type": "subslide"
    }
   },
   "source": [
    "*This means that when we request that SLURM perform some task (say, executing a snippet of code) we are also requesting a resource allotment which will be reserved for the execution of that task.*"
   ]
  },
  {
   "cell_type": "markdown",
   "metadata": {
    "slideshow": {
     "slide_type": "slide"
    }
   },
   "source": [
    "## How Do We Request Resources & Perform Tasks?"
   ]
  },
  {
   "cell_type": "markdown",
   "metadata": {
    "slideshow": {
     "slide_type": "fragment"
    }
   },
   "source": [
    "There are a couple of ways we can request a resource allotment and perform tasks.  "
   ]
  },
  {
   "cell_type": "markdown",
   "metadata": {
    "slideshow": {
     "slide_type": "fragment"
    }
   },
   "source": [
    "We might use the command `salloc` to request an allotment (by providing arguments on the command-line) and then interactively run code using the the resources once they become available. Alternatively, if we want for the task to be performed without needing to interact with it, we can use the command `sbatch`.  \n"
   ]
  },
  {
   "cell_type": "markdown",
   "metadata": {
    "slideshow": {
     "slide_type": "fragment"
    }
   },
   "source": [
    "Learning the basics of the `sbatch` command is the purpose of this notebook."
   ]
  },
  {
   "cell_type": "markdown",
   "metadata": {
    "slideshow": {
     "slide_type": "subslide"
    }
   },
   "source": [
    "### The command `sbatch`"
   ]
  },
  {
   "cell_type": "markdown",
   "metadata": {
    "slideshow": {
     "slide_type": "fragment"
    }
   },
   "source": [
    "\n",
    "When provided the path of a shell-script, the `sbatch`\n",
    "command searches the script for lines beginning with `#SBATCH`.  Any line starting with `#SBATCH` occuring during the preamble (*before any commands*) is treated as meta-data specifying some parameters for a job we're requesting be created."
   ]
  },
  {
   "cell_type": "markdown",
   "metadata": {
    "slideshow": {
     "slide_type": "fragment"
    }
   },
   "source": [
    "If these parameters describe a *feasible* job, that job is created and queued until an appropriate resource allotment (matching the provided parameters) can be made.  Once an appropriate allotment becomes available, the provided shell-script is executed using the alloted resources."
   ]
  },
  {
   "cell_type": "markdown",
   "metadata": {
    "slideshow": {
     "slide_type": "subslide"
    }
   },
   "source": [
    "---\n",
    "Any shell-script containing meta-data that `sbatch` can understand *(say, describing a resource request or providing other ambient details)* is called a **batch-script** (or job-script).\n",
    "\n",
    "---"
   ]
  },
  {
   "cell_type": "markdown",
   "metadata": {
    "slideshow": {
     "slide_type": "slide"
    }
   },
   "source": [
    "### **Example 1**"
   ]
  },
  {
   "cell_type": "markdown",
   "metadata": {},
   "source": [
    "Select the cell below and use `SHIFT`+`ENTER` to create the batch-script `example-one.sh`,"
   ]
  },
  {
   "cell_type": "code",
   "execution_count": 1,
   "metadata": {
    "slideshow": {
     "slide_type": "-"
    }
   },
   "outputs": [
    {
     "name": "stdout",
     "output_type": "stream",
     "text": [
      "Created file '/home/DAVIDSON/jedonovan/tutorials/example-one.sh'.\n"
     ]
    }
   ],
   "source": [
    "%%file example-one.sh\n",
    "#!/bin/bash\n",
    "### Job Parameters:  \n",
    "#SBATCH --job-name \"My Letter\"     # job's name\n",
    "#SBATCH --output   \"letter.%j.log\" # output log (%j gets replaced with job's id)\n",
    "#SBATCH --comment  \"A humble job.\" # comment about job\n",
    "\n",
    "### Script To Execute:\n",
    "amount=$((30 + RANDOM % 60)) # number between 30 and 90\n",
    "memory=$((SLURM_MEM_PER_CPU * SLURM_CPUS_PER_TASK * 1024 * 1024))\n",
    "draft=(\" Dear ${USER},\\n\\n\"\n",
    "       \"  I hope this letter finds you well; it is a glorious $(date +%A)\\n\"\n",
    "       \"in $(date +%B) and I find myself executing on \"$(hostname -s)\" with\\n\"\n",
    "       \"access to ${memory} bytes of memory and $(nproc) cpu(s). Knowing that\\n\"\n",
    "       \"these resources are shared, I have chosen to surrender ${amount}\\n\"\n",
    "       \"seconds of my alloted time to processes less fortunate than I.\\n\\n\"\n",
    "       \"Cheers,\\n\" \"  Job ${SLURM_JOB_ID}\\n\")\n",
    "\n",
    "# send letter & take a nap.\n",
    "echo -e \"${draft[@]}\" && sleep ${amount}\n",
    "    "
   ]
  },
  {
   "cell_type": "markdown",
   "metadata": {
    "slideshow": {
     "slide_type": "subslide"
    }
   },
   "source": [
    "#### Submiting The Script & Getting Results"
   ]
  },
  {
   "cell_type": "markdown",
   "metadata": {
    "slideshow": {
     "slide_type": "-"
    }
   },
   "source": [
    "To submit the batch-script to SLURM, we use the `sbatch` command. If `sbatch` successfully creates the job associated with the provided script, it will output the job's id."
   ]
  },
  {
   "cell_type": "markdown",
   "metadata": {
    "slideshow": {
     "slide_type": "fragment"
    }
   },
   "source": [
    "Select the following cell and use `SHIFT`+`ENTER` to evaluate it and submit the example batch-script we created,"
   ]
  },
  {
   "cell_type": "code",
   "execution_count": 2,
   "metadata": {},
   "outputs": [
    {
     "name": "stdout",
     "output_type": "stream",
     "text": [
      "Submitted batch job 146875\n",
      "\n"
     ]
    }
   ],
   "source": [
    "sbatch example-one.sh "
   ]
  },
  {
   "cell_type": "markdown",
   "metadata": {
    "slideshow": {
     "slide_type": "subslide"
    }
   },
   "source": [
    "Once a job has been successfully submitted, it will appear in the SLURM scheduling queue until it completes. To view jobs currently in the queue, use the command `squeue`. "
   ]
  },
  {
   "cell_type": "markdown",
   "metadata": {
    "slideshow": {
     "slide_type": "fragment"
    }
   },
   "source": [
    "To view the queue, execute the following cell using `SHIFT`+`ENTER` (*see if you can locate your job using the JOBID column*)"
   ]
  },
  {
   "cell_type": "code",
   "execution_count": 3,
   "metadata": {},
   "outputs": [
    {
     "name": "stdout",
     "output_type": "stream",
     "text": [
      "             JOBID PARTITION     NAME     USER ST       TIME  NODES NODELIST(REASON)\n",
      "            146854     basic gaussian dustripl  R   23:25:58      1 gpu0\n",
      "            146873     basic PUB:Jupy ticharti  R    2:12:58      1 gpu0\n",
      "            146874     basic PUB:Jupy jedonova  R       3:21      1 gpu0\n",
      "            146875     basic My Lette jedonova  R       0:09      1 gpu0\n",
      "\n"
     ]
    }
   ],
   "source": [
    "squeue"
   ]
  },
  {
   "cell_type": "markdown",
   "metadata": {
    "slideshow": {
     "slide_type": "subslide"
    }
   },
   "source": [
    "As fun as submitting a job and viewing the queue might be, what happenes once the job executes is fundamentally more important. *Complete the task described in the following cell to view the output of your batch-script,*"
   ]
  },
  {
   "cell_type": "code",
   "execution_count": 4,
   "metadata": {
    "slideshow": {
     "slide_type": "-"
    }
   },
   "outputs": [
    {
     "name": "stdout",
     "output_type": "stream",
     "text": [
      " Dear jedonovan@davidson.edu,\n",
      "\n",
      "   I hope this letter finds you well; it is a glorious Friday\n",
      " in March and I find myself executing on gpu0 with\n",
      " access to 0 bytes of memory and 2 cpu(s). Knowing that\n",
      " these resources are shared, I have chosen to surrender 56\n",
      " seconds of my alloted time to processes less fortunate than I.\n",
      "\n",
      " Cheers,\n",
      "   Job 146875\n",
      "\n",
      "\n"
     ]
    }
   ],
   "source": [
    "# TASK: Identify the line containing `--output` in the batch-script\n",
    "#    and use the information provided there to determine the full filename\n",
    "#    of the file containing the output from your job.\n",
    "#      Place this filename in the quotes below and execute the\n",
    "#    cell using SHIFT+ENTER.\n",
    "\n",
    "cat \"letter.146875.log\""
   ]
  },
  {
   "cell_type": "markdown",
   "metadata": {
    "slideshow": {
     "slide_type": "slide"
    }
   },
   "source": [
    "### **Example 2**"
   ]
  },
  {
   "cell_type": "markdown",
   "metadata": {},
   "source": [
    "Use `SHIFT`+`ENTER` to create the file `example-two.sh` containing the code from the next cell,"
   ]
  },
  {
   "cell_type": "code",
   "execution_count": 7,
   "metadata": {
    "slideshow": {
     "slide_type": "-"
    }
   },
   "outputs": [
    {
     "name": "stdout",
     "output_type": "stream",
     "text": [
      "Created file '/home/DAVIDSON/jedonovan/tutorials/example-two.sh'.\n"
     ]
    }
   ],
   "source": [
    "%%file \"example-two.sh\"\n",
    "#!/bin/bash\n",
    "### Job Parameters:\n",
    "#SBATCH --job-name  \"Arguments\" # display name\n",
    "#SBATCH --output    \"out.log\"   # where to log terminal output \n",
    "#SBATCH --error     \"err.log\"   #  .. and error messages\n",
    "#SBATCH --open-mode truncate    # always overwrite log files \n",
    "\n",
    "# Resources required\n",
    "#SBATCH --ntasks 1          # number of tasks we'll perform\n",
    "#SBATCH --cpus-per-task 2   # num. cpus each task will require\n",
    "#SBATCH --mem-per-cpu 128   # memory required per cpu (in megabytes)\n",
    "\n",
    "### Script To Execute:\n",
    "for item in \"$@\"; do # loop provided arguments.\n",
    "    # print the length of the argument (as a string)\n",
    "    echo -n \"The argument '${item}' is ${#item} characters long. \"\n",
    "    # and then do something random...\n",
    "    amount=$((RANDOM % 6))   # choose `amount` to sleep\n",
    "    sleep 0.${amount}        # sleep for `amount/10` seconds\n",
    "    echo \"Slept for 0.${amount} seconds.\"\n",
    "done"
   ]
  },
  {
   "cell_type": "markdown",
   "metadata": {
    "slideshow": {
     "slide_type": "subslide"
    }
   },
   "source": [
    "#### Submiting The Script & Getting Results"
   ]
  },
  {
   "cell_type": "markdown",
   "metadata": {
    "slideshow": {
     "slide_type": "-"
    }
   },
   "source": [
    "The awesome thing about batch-scripts is they are also shell-scripts. This means we can execute them without needing to go through SLURM, and that the normal testing & development workflow is available."
   ]
  },
  {
   "cell_type": "markdown",
   "metadata": {
    "slideshow": {
     "slide_type": "fragment"
    }
   },
   "source": [
    "Use `SHIFT`+`ENTER` to evaluate the following cell and verify the batch-script works properly,"
   ]
  },
  {
   "cell_type": "code",
   "execution_count": 8,
   "metadata": {
    "scrolled": true,
    "slideshow": {
     "slide_type": "-"
    }
   },
   "outputs": [
    {
     "name": "stdout",
     "output_type": "stream",
     "text": [
      "The argument 'first' is 5 characters long. Slept for 0.3 seconds.\n",
      "The argument 'second0' is 7 characters long. Slept for 0.2 seconds.\n",
      "The argument 'second1' is 7 characters long. Slept for 0.1 seconds.\n",
      "The argument 'second2' is 7 characters long. Slept for 0.1 seconds.\n",
      "\n"
     ]
    }
   ],
   "source": [
    "bash example-two.sh \"first\" second{0..2} "
   ]
  },
  {
   "cell_type": "markdown",
   "metadata": {
    "slideshow": {
     "slide_type": "fragment"
    }
   },
   "source": [
    "**Optional:** In the cell with batch-script's code, locate the line containing **--cpus-per-task** and change the number of requested CPUs to 2. Save these changes to `example-two.sh` by evaluating that cell, then verify the script still works appropriately."
   ]
  },
  {
   "cell_type": "markdown",
   "metadata": {
    "slideshow": {
     "slide_type": "subslide"
    }
   },
   "source": [
    "When you submit a batch-script to SLURM, it's possible to provide a sequence of arguments which will be passed to the script when it executes. \n",
    "\n",
    "Use `SHIFT`+`ENTER` to evaluate the following cell and submit the batch-script along with arguments to be used when it executes."
   ]
  },
  {
   "cell_type": "code",
   "execution_count": 9,
   "metadata": {
    "scrolled": true,
    "slideshow": {
     "slide_type": "-"
    }
   },
   "outputs": [
    {
     "name": "stdout",
     "output_type": "stream",
     "text": [
      "Submitted batch job 146876\n",
      "\n"
     ]
    }
   ],
   "source": [
    "sbatch example-two.sh \"lion\" \"tigers\" argument{1..500}  \"bear\" "
   ]
  },
  {
   "cell_type": "markdown",
   "metadata": {
    "slideshow": {
     "slide_type": "fragment"
    }
   },
   "source": [
    "To verify the  submitted job is running, we'll use `squeue` again.  However, this time, instead of seeing all jobs in the queue, we'll restrict to only jobs associated with our user. To do this we need to use the `--user` argument for `squeue`."
   ]
  },
  {
   "cell_type": "code",
   "execution_count": 10,
   "metadata": {
    "slideshow": {
     "slide_type": "-"
    }
   },
   "outputs": [
    {
     "name": "stdout",
     "output_type": "stream",
     "text": [
      "             JOBID PARTITION     NAME     USER ST       TIME  NODES NODELIST(REASON)\n",
      "            146874     basic PUB:Jupy jedonova  R       7:46      1 gpu0\n",
      "            146876     basic Argument jedonova  R       0:18      1 gpu0\n",
      "\n"
     ]
    }
   ],
   "source": [
    "# excute this cell using SHIFT+ENTER\n",
    "squeue --user $USER"
   ]
  },
  {
   "cell_type": "markdown",
   "metadata": {
    "slideshow": {
     "slide_type": "subslide"
    }
   },
   "source": [
    "*How did we know about the `--user` argument?*"
   ]
  },
  {
   "cell_type": "markdown",
   "metadata": {
    "slideshow": {
     "slide_type": "fragment"
    }
   },
   "source": [
    "We used `man`. The system command `man` is an important resource when using UNIX/Linux based systems.  The command provides detailed documentation (or *manuals*) for various topics, among those topics you'll find \"*usage and runtime behavior*\" information for a most commands available at a terminal."
   ]
  },
  {
   "cell_type": "markdown",
   "metadata": {
    "slideshow": {
     "slide_type": "-"
    }
   },
   "source": [
    "In the case of `squeue`, we can learn a lot about what sort of arguments it accepts by skimming the documentation presented by running `man squeue`. For example, a passage detailing how to use the argument `--user` is contained within."
   ]
  },
  {
   "cell_type": "markdown",
   "metadata": {
    "slideshow": {
     "slide_type": "subslide"
    }
   },
   "source": [
    "Use `SHIFT`+`ENTER` to evaluate the following cell and display the manual for the `squeue` command. Then, either by, going to the `Edit` menu and selecting `Find`, or using scroll-bar to the right, locate the documentation for the **--users** option,"
   ]
  },
  {
   "cell_type": "code",
   "execution_count": null,
   "metadata": {
    "slideshow": {
     "slide_type": "-"
    }
   },
   "outputs": [
    {
     "name": "stdout",
     "output_type": "stream",
     "text": [
      "squeue(1)                       Slurm Commands                       squeue(1)\n",
      "\n",
      "\u001b[1mNAME\u001b[0m\n",
      "       squeue  -  view  information about jobs located in the Slurm scheduling\n",
      "       queue.\n",
      "\n",
      "\u001b[1mSYNOPSIS\u001b[0m\n",
      "       \u001b[1msqueue \u001b[22m[\u001b[4mOPTIONS\u001b[24m...]\n",
      "\n",
      "\u001b[1mDESCRIPTION\u001b[0m\n",
      "       \u001b[1msqueue \u001b[22mis used to view job and job step information for jobs managed by\n",
      "       Slurm.\n",
      "\n",
      "\u001b[1mOPTIONS\u001b[0m\n",
      "       \u001b[1m-A\u001b[22m, \u001b[1m--account\u001b[22m=<\u001b[4maccount_list\u001b[24m>\n",
      "              Specify  the accounts of the jobs to view. Accepts a comma sepa‐\n",
      "              rated list of account names. This has no effect when listing job\n",
      "              steps.\n",
      "\n",
      "       \u001b[1m-a\u001b[22m, \u001b[1m--all\u001b[0m\n",
      "              Display  information about jobs and job steps in all partitions.\n",
      "              This causes information to be displayed  about  partitions  that\n",
      "              are  configured  as hidden, partitions that are unavailable to a\n",
      "              user's group, and federated jobs that are in a \"revoked\" state.\n",
      "\n",
      "       \u001b[1m-r\u001b[22m, \u001b[1m--array\u001b[0m\n",
      "              Display one job array element per line.   Without  this  option,\n",
      "              the  display  will be optimized for use with job arrays (pending\n",
      "              job array elements will be combined on one line of  output  with\n",
      "              the array index values printed using a regular expression).\n",
      "\n",
      "       \u001b[1m--array-unique\u001b[0m\n",
      "              Display  one  unique pending job array element per line. Without\n",
      "              this option, the pending job array elements will be grouped into\n",
      "              the  master array job to optimize the display.  This can also be\n",
      "              set with the environment variable SQUEUE_ARRAY_UNIQUE.\n",
      "\n",
      "       \u001b[1m-M\u001b[22m, \u001b[1m--clusters\u001b[22m=<\u001b[4mcluster_name\u001b[24m>\n",
      "              Clusters to issue commands to.  Multiple cluster  names  may  be\n",
      "              comma  separated.   A  value  of  '\u001b[4mall\u001b[24m' will query to run on all\n",
      "              clusters.  This option implicitly sets the \u001b[1m--local \u001b[22moption.\n",
      "\n",
      "       \u001b[1m--federation\u001b[0m\n",
      "              Show jobs from the federation if a member of one.\n",
      "\n",
      "       \u001b[1m-o\u001b[22m, \u001b[1m--format\u001b[22m=<\u001b[4moutput_format\u001b[24m>\n",
      "              Specify the information to be displayed, its size  and  position\n",
      "              (right  or  left  justified).   Also  see the \u001b[1m-O\u001b[22m, \u001b[1m--Format\u001b[22m=<\u001b[4mout‐\u001b[0m\n",
      "              \u001b[4mput_format\u001b[24m> option described below (which supports  less  flexi‐\n",
      "              bility  in  formatting,  but supports access to all fields).  If\n",
      "              the command is executed in a federated cluster  environment  and\n",
      "              information  about  more than one cluster is to be displayed and\n",
      "              the \u001b[1m-h, --noheader \u001b[22moption is used, then the cluster name will be\n",
      "              displayed before the default output formats shown below.\n",
      "\n",
      "              The default formats with various options are:\n",
      "\n",
      "              \u001b[4mdefault\u001b[24m        \"%.18i %.9P %.8j %.8u %.2t %.10M %.6D %R\"\n",
      "\n",
      "              \u001b[4m-l,\u001b[24m \u001b[4m--long\u001b[24m     \"%.18i %.9P %.8j %.8u %.8T %.10M %.9l %.6D %R\"\n",
      "\n",
      "              \u001b[4m-s,\u001b[24m \u001b[4m--steps\u001b[24m    \"%.15i %.8j %.9P %.8u %.9M %N\"\n",
      "\n",
      "       The format of each field is \"%[[.]size]type[suffix]\"\n",
      "\n",
      "                 \u001b[4msize\u001b[24m   Minimum  field size. If no size is specified, whatever\n",
      "                        is needed to print the information will be used.\n",
      "\n",
      "                 \u001b[4m.\u001b[24m      Indicates the output should  be  right  justified  and\n",
      "                        size  must  be  specified.   By default output is left\n",
      "                        justified.\n",
      "\n",
      "                 \u001b[4msuffix\u001b[24m Arbitrary string to append to the end of the field.\n",
      "\n",
      "       Note that many of these \u001b[4mtype\u001b[24m specifications are  valid  only  for  jobs\n",
      "       while  others  are valid only for job steps.  Valid \u001b[4mtype\u001b[24m specifications\n",
      "       include:\n",
      "\n",
      "              \u001b[1m%all  \u001b[22mPrint all fields available for this data type with a  ver‐\n",
      "                    tical bar separating each field.\n",
      "\n",
      "              \u001b[1m%a    \u001b[22mAccount associated with the job.  (Valid for jobs only)\n",
      "\n",
      "              \u001b[1m%A    \u001b[22mNumber  of  tasks created by a job step.  This reports the\n",
      "                    value of the \u001b[1msrun --ntasks \u001b[22moption.  (Valid for  job  steps\n",
      "                    only)\n",
      "\n",
      "              \u001b[1m%A    \u001b[22mJob id.  This will have a unique value for each element of\n",
      "                    job arrays.  (Valid for jobs only)\n",
      "\n",
      "              \u001b[1m%B    \u001b[22mExecuting (batch) host. For an allocated session, this  is\n",
      "                    the  host on which the session is executing (i.e. the node\n",
      "                    from which the \u001b[1msrun \u001b[22mor the \u001b[1msalloc \u001b[22mcommand  was  executed).\n",
      "                    For  a  batch  job,  this  is the node executing the batch\n",
      "                    script. In the case of a typical Linux cluster, this would\n",
      "                    be the compute node zero of the allocation. In the case of\n",
      "                    a Cray ALPS system, this would be the front-end host whose\n",
      "                    slurmd daemon executes the job script.\n",
      "\n",
      "              \u001b[1m%c    \u001b[22mMinimum  number of CPUs (processors) per node requested by\n",
      "                    the job.  This reports the value  of  the  \u001b[1msrun  --mincpus\u001b[0m\n",
      "                    option  with  a  default  value  of zero.  (Valid for jobs\n",
      "                    only)\n",
      "\n",
      "              \u001b[1m%C    \u001b[22mNumber of CPUs (processors) requested by the job or  allo‐\n",
      "                    cated  to  it  if already running.  As a job is completing\n",
      "                    this number will reflect the current number of CPUs  allo‐\n",
      "                    cated.  (Valid for jobs only)\n",
      "\n",
      "              \u001b[1m%d    \u001b[22mMinimum  size of temporary disk space (in MB) requested by\n",
      "                    the job.  (Valid for jobs only)\n",
      "\n",
      "              \u001b[1m%D    \u001b[22mNumber of nodes allocated to the job or the minimum number\n",
      "                    of  nodes  required by a pending job. The actual number of\n",
      "                    nodes allocated to a pending job may exceed this number if\n",
      "                    the  job  specified  a node range count (e.g.  minimum and\n",
      "                    maximum node counts) or  the  job  specifies  a  processor\n",
      "                    count instead of a node count. As a job is completing this\n",
      "                    number will reflect the current number of nodes allocated.\n",
      "                    (Valid for jobs only)\n",
      "\n",
      "              \u001b[1m%e    \u001b[22mTime  at  which the job ended or is expected to end (based\n",
      "                    upon its time limit).  (Valid for jobs only)\n",
      "\n",
      "              \u001b[1m%E    \u001b[22mJob dependencies remaining. This job will not begin execu‐\n",
      "                    tion until these dependent jobs complete. In the case of a\n",
      "                    job that can not run due to job dependencies  never  being\n",
      "                    satisfied,  the full original job dependency specification\n",
      "                    will be reported. A value of NULL implies this job has  no\n",
      "                    dependencies.  (Valid for jobs only)\n",
      "\n",
      "              \u001b[1m%f    \u001b[22mFeatures required by the job.  (Valid for jobs only)\n",
      "\n",
      "              \u001b[1m%F    \u001b[22mJob  array's  job  ID.  This  is  the  base  job  ID.  For\n",
      "                    non-array jobs, this is the job ID.  (Valid for jobs only)\n",
      "\n",
      "              \u001b[1m%g    \u001b[22mGroup name of the job.  (Valid for jobs only)\n",
      "\n",
      "              \u001b[1m%G    \u001b[22mGroup ID of the job.  (Valid for jobs only)\n",
      "\n",
      "              \u001b[1m%h    \u001b[22mCan the compute resources allocated to  the  job  be  over\n",
      "                    subscribed  by  other jobs.  The resources to be over sub‐\n",
      "                    scribed can be  nodes,  sockets,  cores,  or  hyperthreads\n",
      "                    depending  upon configuration.  The value will be \"YES\" if\n",
      "                    the job was submitted with the oversubscribe option or the\n",
      "                    partition  is configured with OverSubscribe=Force, \"NO\" if\n",
      "                    the job requires exclusive  node  access,  \"USER\"  if  the\n",
      "                    allocated  compute  nodes  are dedicated to a single user,\n",
      "                    \"MCS\" if the allocated compute nodes are  dedicated  to  a\n",
      "                    single  security  class  (See  MCSPlugin and MCSParameters\n",
      "                    configuration parameters for more information), \"OK\"  oth‐\n",
      "                    erwise  (typically  allocated  dedicated CPUs), (Valid for\n",
      "                    jobs only)\n",
      "\n",
      "              \u001b[1m%H    \u001b[22mNumber of sockets per node requested  by  the  job.   This\n",
      "                    reports  the  value of the \u001b[1msrun --sockets-per-node \u001b[22moption.\n",
      "                    When --sockets-per-node has not  been  set,  \"*\"  is  dis‐\n",
      "                    played.  (Valid for jobs only)\n",
      "\n",
      "              \u001b[1m%i    \u001b[22mJob or job step id.  In the case of job arrays, the job ID\n",
      "                    format will be of the  form  \"<base_job_id>_<index>\".   By\n",
      "                    default, the job array index field size will be limited to\n",
      "                    64 bytes.  Use the environment  variable  SLURM_BITSTR_LEN\n",
      "                    to  specify  larger  field sizes.  (Valid for jobs and job\n",
      "                    steps) In the case of heterogeneous job  allocations,  the\n",
      "                    job  ID  format  will be of the form \"#+#\" where the first\n",
      "                    number is the \"heterogeneous job leader\"  and  the  second\n",
      "                    number  the  zero  origin offset for each component of the\n",
      "                    job.\n",
      "\n",
      "              \u001b[1m%I    \u001b[22mNumber of cores per socket requested  by  the  job.   This\n",
      "                    reports  the  value of the \u001b[1msrun --cores-per-socket \u001b[22moption.\n",
      "                    When --cores-per-socket has not  been  set,  \"*\"  is  dis‐\n",
      "                    played.  (Valid for jobs only)\n",
      "\n",
      "              \u001b[1m%j    \u001b[22mJob or job step name.  (Valid for jobs and job steps)\n",
      "\n",
      "              \u001b[1m%J    \u001b[22mNumber  of  threads  per  core requested by the job.  This\n",
      "                    reports the value of the \u001b[1msrun  --threads-per-core  \u001b[22moption.\n",
      "                    When  --threads-per-core  has  not  been  set, \"*\" is dis‐\n",
      "                    played.  (Valid for jobs only)\n",
      "\n",
      "              \u001b[1m%k    \u001b[22mComment associated with the job.  (Valid for jobs only)\n",
      "\n",
      "              \u001b[1m%K    \u001b[22mJob array index.  By default, this field size will be lim‐\n",
      "                    ited to 64 bytes.  Use the environment variable SLURM_BIT‐\n",
      "                    STR_LEN to specify larger field sizes.   (Valid  for  jobs\n",
      "                    only)\n",
      "\n",
      "              \u001b[1m%l    \u001b[22mTime  limit  of  the  job  or  job step in days-hours:min‐\n",
      "                    utes:seconds.  The value  may  be  \"NOT_SET\"  if  not  yet\n",
      "                    established  or \"UNLIMITED\" for no limit.  (Valid for jobs\n",
      "                    and job steps)\n",
      "\n",
      "              \u001b[1m%L    \u001b[22mTime left  for  the  job  to  execute  in  days-hours:min‐\n",
      "                    utes:seconds.  This value is calculated by subtracting the\n",
      "                    job's time used from its time limit.   The  value  may  be\n",
      "                    \"NOT_SET\"  if  not  yet  established or \"UNLIMITED\" for no\n",
      "                    limit.  (Valid for jobs only)\n",
      "\n",
      "              \u001b[1m%m    \u001b[22mMinimum size of memory  (in  MB)  requested  by  the  job.\n",
      "                    (Valid for jobs only)\n",
      "\n",
      "              \u001b[1m%M    \u001b[22mTime  used  by  the  job  or  job  step in days-hours:min‐\n",
      "                    utes:seconds.  The days and  hours  are  printed  only  as\n",
      "                    needed.   For  job steps this field shows the elapsed time\n",
      "                    since execution began and thus will be inaccurate for  job\n",
      "                    steps which have been suspended.  Clock skew between nodes\n",
      "                    in the cluster will cause the time to be  inaccurate.   If\n",
      "                    the  time  is obviously wrong (e.g. negative), it displays\n",
      "                    as \"INVALID\".  (Valid for jobs and job steps)\n",
      "\n",
      "              \u001b[1m%n    \u001b[22mList of  node  names  explicitly  requested  by  the  job.\n",
      "                    (Valid for jobs only)\n",
      "\n",
      "              \u001b[1m%N    \u001b[22mList  of  nodes  allocated  to the job or job step. In the\n",
      "                    case of a \u001b[4mCOMPLETING\u001b[24m job, the list of nodes will  comprise\n",
      "                    only  those  nodes that have not yet been returned to ser‐\n",
      "                    vice.  (Valid for jobs and job steps)\n",
      "\n",
      "              \u001b[1m%o    \u001b[22mThe command to be executed.\n",
      "\n",
      "              \u001b[1m%O    \u001b[22mAre contiguous nodes requested by  the  job.   (Valid  for\n",
      "                    jobs only)\n",
      "\n",
      "              \u001b[1m%p    \u001b[22mPriority  of the job (converted to a floating point number\n",
      "                    between 0.0 and 1.0).  Also see \u001b[1m%Q\u001b[22m.  (Valid for jobs only)\n",
      "\n",
      "              \u001b[1m%P    \u001b[22mPartition of the job or job step.  (Valid for jobs and job\n",
      "                    steps)\n",
      "\n",
      "              \u001b[1m%q    \u001b[22mQuality  of  service  associated with the job.  (Valid for\n",
      "                    jobs only)\n",
      "\n",
      "              \u001b[1m%Q    \u001b[22mPriority of the job (generally a very large unsigned inte‐\n",
      "                    ger).  Also see \u001b[1m%p\u001b[22m.  (Valid for jobs only)\n",
      "\n",
      "              \u001b[1m%r    \u001b[22mThe  reason  a  job  is in its current state.  See the \u001b[1mJOB\u001b[0m\n",
      "                    \u001b[1mREASON CODES \u001b[22msection below for more  information.   (Valid\n",
      "                    for jobs only)\n",
      "\n",
      "              \u001b[1m%R    \u001b[22mFor  pending  jobs: the reason a job is waiting for execu‐\n",
      "                    tion is printed within parenthesis.  For  terminated  jobs\n",
      "                    with  failure:  an explanation as to why the job failed is\n",
      "                    printed within parenthesis.  For all other job states: the\n",
      "                    list  of allocate nodes.  See the \u001b[1mJOB REASON CODES \u001b[22msection\n",
      "                    below for more information.  (Valid for jobs only)\n",
      "\n",
      "              \u001b[1m%s    \u001b[22mNode selection plugin specific data for  a  job.  Possible\n",
      "                    data includes: Geometry requirement of resource allocation\n",
      "                    (X,Y,Z dimensions), Connection type (TORUS, MESH,  or  NAV\n",
      "                    ==  torus  else mesh), Permit rotation of geometry (yes or\n",
      "                    no), Node use (VIRTUAL or COPROCESSOR), etc.   (Valid  for\n",
      "                    jobs only)\n",
      "\n",
      "              \u001b[1m%S    \u001b[22mActual  or  expected  start  time  of the job or job step.\n",
      "                    (Valid for jobs and job steps)\n",
      "\n",
      "              \u001b[1m%t    \u001b[22mJob state in compact form.  See the \u001b[1mJOB STATE  CODES  \u001b[22msec‐\n",
      "                    tion below for a list of possible states.  (Valid for jobs\n",
      "                    only)\n",
      "\n",
      "              \u001b[1m%T    \u001b[22mJob state in extended form.  See the \u001b[1mJOB STATE CODES  \u001b[22msec‐\n",
      "                    tion below for a list of possible states.  (Valid for jobs\n",
      "                    only)\n",
      "\n",
      "              \u001b[1m%u    \u001b[22mUser name for a job or job step.  (Valid for jobs and  job\n",
      "                    steps)\n",
      "\n",
      "              \u001b[1m%U    \u001b[22mUser  ID  for  a job or job step.  (Valid for jobs and job\n",
      "                    steps)\n",
      "\n",
      "              \u001b[1m%v    \u001b[22mReservation for the job.  (Valid for jobs only)\n",
      "\n",
      "              \u001b[1m%V    \u001b[22mThe job's submission time.\n",
      "\n",
      "              \u001b[1m%w    \u001b[22mWorkload Characterization Key (wckey).   (Valid  for  jobs\n",
      "                    only)\n",
      "\n",
      "              \u001b[1m%W    \u001b[22mLicenses reserved for the job.  (Valid for jobs only)\n",
      "\n",
      "              \u001b[1m%x    \u001b[22mList of node names explicitly excluded by the job.  (Valid\n",
      "                    for jobs only)\n",
      "\n",
      "              \u001b[1m%X    \u001b[22mCount of cores reserved on each node for system use  (core\n",
      "                    specialization).  (Valid for jobs only)\n",
      "\n",
      "              \u001b[1m%y    \u001b[22mNice  value  (adjustment  to a job's scheduling priority).\n",
      "                    (Valid for jobs only)\n",
      "\n",
      "              \u001b[1m%Y    \u001b[22mFor pending jobs, a list of the nodes expected to be  used\n",
      "                    when the job is started.\n",
      "\n",
      "              \u001b[1m%z    \u001b[22mNumber  of  requested  sockets, cores, and threads (S:C:T)\n",
      "                    per node for the job.  When (S:C:T) has not been set,  \"*\"\n",
      "                    is displayed.  (Valid for jobs only)\n",
      "\n",
      "              \u001b[1m%Z    \u001b[22mThe job's working directory.\n",
      "\n",
      "       \u001b[1m-O\u001b[22m, \u001b[1m--Format\u001b[22m=<\u001b[4moutput_format\u001b[24m>\n",
      "              Specify  the  information  to  be  displayed.   Also see the \u001b[1m-o\u001b[22m,\n",
      "              \u001b[1m--format\u001b[22m=<\u001b[4moutput_format\u001b[24m> option described above (which  supports\n",
      "              greater  flexibility  in formatting, but does not support access\n",
      "              to all fields because we ran out of letters).  Requests a  comma\n",
      "              separated list of job information to be displayed.\n",
      "\n",
      "              The format of each field is \"type[:[.][size][sufix]]\"\n",
      "\n",
      "                 \u001b[4msize\u001b[24m   Minimum  field size. If no size is specified, 20 char‐\n",
      "                        acters will be allocated to print the information.\n",
      "\n",
      "                 \u001b[4m.\u001b[24m      Indicates the output should  be  right  justified  and\n",
      "                        size  must  be  specified.   By default output is left\n",
      "                        justified.\n",
      "\n",
      "                 \u001b[4msufix\u001b[24m  Arbitrary string to append to the end of the field.\n",
      "\n",
      "       Note that many of these \u001b[4mtype\u001b[24m specifications are  valid  only  for  jobs\n",
      "       while  others  are valid only for job steps.  Valid \u001b[4mtype\u001b[24m specifications\n",
      "       include:\n",
      "\n",
      "              \u001b[1mAccount\u001b[0m\n",
      "                     Print the account associated with the  job.   (Valid  for\n",
      "                     jobs only)\n",
      "\n",
      "              \u001b[1mAccrueTime\u001b[0m\n",
      "                     Print  the  accrue  time associated with the job.  (Valid\n",
      "                     for jobs only)\n",
      "\n",
      "              \u001b[1madmin_comment\u001b[0m\n",
      "                     Administrator comment associated with  the  job.   (Valid\n",
      "                     for jobs only)\n",
      "\n",
      "              \u001b[1mAllocNodes\u001b[0m\n",
      "                     Print  the  nodes  allocated to the job.  (Valid for jobs\n",
      "                     only)\n",
      "\n",
      "              \u001b[1mAllocSID\u001b[0m\n",
      "                     Print the session ID used to submit the job.  (Valid  for\n",
      "                     jobs only)\n",
      "\n",
      "              \u001b[1mArrayJobID\u001b[0m\n",
      "                     Prints  the job ID of the job array.  (Valid for jobs and\n",
      "                     job steps)\n",
      "\n",
      "              \u001b[1mArrayTaskID\u001b[0m\n",
      "                     Prints the task ID of the job array.  (Valid for jobs and\n",
      "                     job steps)\n",
      "\n",
      "              \u001b[1mAssocID\u001b[0m\n",
      "                     Prints  the  ID  of the job association.  (Valid for jobs\n",
      "                     only)\n",
      "\n",
      "              \u001b[1mBatchFlag\u001b[0m\n",
      "                     Prints whether the batch flag has been set.   (Valid  for\n",
      "                     jobs only)\n",
      "\n",
      "              \u001b[1mBatchHost\u001b[0m\n",
      "                     Executing (batch) host. For an allocated session, this is\n",
      "                     the host on which the session is executing (i.e. the node\n",
      "                     from  which the \u001b[1msrun \u001b[22mor the \u001b[1msalloc \u001b[22mcommand was executed).\n",
      "                     For a batch job, this is the  node  executing  the  batch\n",
      "                     script.  In  the  case  of  a typical Linux cluster, this\n",
      "                     would be the compute node zero of the allocation. In  the\n",
      "                     case  of  a Cray ALPS system, this would be the front-end\n",
      "                     host whose slurmd daemon executes the job script.  (Valid\n",
      "                     for jobs only)\n",
      "\n",
      "              \u001b[1mBoardsPerNode\u001b[0m\n",
      "                     Prints  the  number  of  boards per node allocated to the\n",
      "                     job.  (Valid for jobs only)\n",
      "\n",
      "              \u001b[1mBurstBuffer\u001b[0m\n",
      "                     Burst Buffer specification (Valid for jobs only)\n",
      "\n",
      "              \u001b[1mBurstBufferState\u001b[0m\n",
      "                     Burst Buffer state (Valid for jobs only)\n",
      "\n",
      "              \u001b[1mCluster\u001b[0m\n",
      "                     Name of the cluster that is running the job or job step.\n",
      "\n",
      "              \u001b[1mClusterFeature\u001b[0m\n",
      "                     Cluster features required by the job.   (Valid  for  jobs\n",
      "                     only)\n",
      "\n",
      "              \u001b[1mCommand\u001b[0m\n",
      "                     The command to be executed.  (Valid for jobs only)\n",
      "\n",
      "              \u001b[1mComment\u001b[0m\n",
      "                     Comment associated with the job.  (Valid for jobs only)\n",
      "\n",
      "              \u001b[1mContiguous\u001b[0m\n",
      "                     Are  contiguous  nodes  requested by the job.  (Valid for\n",
      "                     jobs only)\n",
      "\n",
      "              \u001b[1mContainer\u001b[0m\n",
      "                     OCI container bundle path.\n",
      "\n",
      "              \u001b[1mCores  \u001b[22mNumber of cores per socket requested by  the  job.   This\n",
      "                     reports  the value of the \u001b[1msrun --cores-per-socket \u001b[22moption.\n",
      "                     When \u001b[1m--cores-per-socket \u001b[22mhas not been  set,  \"*\"  is  dis‐\n",
      "                     played.  (Valid for jobs only)\n",
      "\n",
      "              \u001b[1mCoreSpec\u001b[0m\n",
      "                     Count of cores reserved on each node for system use (core\n",
      "                     specialization).  (Valid for jobs only)\n",
      "\n",
      "              \u001b[1mCPUFreq\u001b[0m\n",
      "                     Prints the frequency of the allocated CPUs.   (Valid  for\n",
      "                     job steps only)\n",
      "\n",
      "              \u001b[1mcpus-per-task\u001b[0m\n",
      "                     Prints the number of CPUs per tasks allocated to the job.\n",
      "                     (Valid for jobs only)\n",
      "\n",
      "              \u001b[1mcpus-per-tres\u001b[0m\n",
      "                     Print the memory required per trackable  resources  allo‐\n",
      "                     cated to the job or job step.\n",
      "\n",
      "              \u001b[1mDeadline\u001b[0m\n",
      "                     Prints  the  deadline affected to the job (Valid for jobs\n",
      "                     only)\n",
      "\n",
      "              \u001b[1mDelayBoot\u001b[0m\n",
      "                     Delay boot time.  (Valid for jobs only)\n",
      "\n",
      "              \u001b[1mDependency\u001b[0m\n",
      "                     Job dependencies remaining. This job will not begin  exe‐\n",
      "                     cution  until  these dependent jobs complete. In the case\n",
      "                     of a job that can not run due to job  dependencies  never\n",
      "                     being  satisfied, the full original job dependency speci‐\n",
      "                     fication will be reported. A value of NULL  implies  this\n",
      "                     job has no dependencies.  (Valid for jobs only)\n",
      "\n",
      "              \u001b[1mDerivedEC\u001b[0m\n",
      "                     Derived  exit code for the job, which is the highest exit\n",
      "                     code of any job step.  (Valid for jobs only)\n",
      "\n",
      "              \u001b[1mEligibleTime\u001b[0m\n",
      "                     Time the job is eligible for running.   (Valid  for  jobs\n",
      "                     only)\n",
      "\n",
      "              \u001b[1mEndTime\u001b[0m\n",
      "                     The  time of job termination, actual or expected.  (Valid\n",
      "                     for jobs only)\n",
      "\n",
      "              \u001b[1mexit_code\u001b[0m\n",
      "                     The exit code for the job.  (Valid for jobs only)\n",
      "\n",
      "              \u001b[1mFeature\u001b[0m\n",
      "                     Features required by the job.  (Valid for jobs only)\n",
      "\n",
      "              \u001b[1mGroupID\u001b[0m\n",
      "                     Group ID of the job.  (Valid for jobs only)\n",
      "\n",
      "              \u001b[1mGroupName\u001b[0m\n",
      "                     Group name of the job.  (Valid for jobs only)\n",
      "\n",
      "              \u001b[1mHetJobID\u001b[0m\n",
      "                     Job ID of the heterogeneous job leader.\n",
      "\n",
      "              \u001b[1mHetJobIDSet\u001b[0m\n",
      "                     Expression identifying all components job  IDs  within  a\n",
      "                     heterogeneous job.\n",
      "\n",
      "              \u001b[1mHetJobOffset\u001b[0m\n",
      "                     Zero  origin  offset within a collection of heterogeneous\n",
      "                     job components.\n",
      "\n",
      "              \u001b[1mJobArrayID\u001b[0m\n",
      "                     Job array's job  ID.  This  is  the  base  job  ID.   For\n",
      "                     non-array  jobs,  this  is  the  job ID.  (Valid for jobs\n",
      "                     only)\n",
      "\n",
      "              \u001b[1mJobID  \u001b[22mJob ID.  This will have a unique value for  each  element\n",
      "                     of  job  arrays and each component of heterogeneous jobs.\n",
      "                     (Valid for jobs only)\n",
      "\n",
      "              \u001b[1mLastSchedEval\u001b[0m\n",
      "                     Prints the last time the job was evaluated  for  schedul‐\n",
      "                     ing.  (Valid for jobs only)\n",
      "\n",
      "              \u001b[1mLicenses\u001b[0m\n",
      "                     Licenses reserved for the job.  (Valid for jobs only)\n",
      "\n",
      "              \u001b[1mMaxCPUs\u001b[0m\n",
      "                     Prints  the  max  number  of  CPUs  allocated to the job.\n",
      "                     (Valid for jobs only)\n",
      "\n",
      "              \u001b[1mMaxNodes\u001b[0m\n",
      "                     Prints the max number of  nodes  allocated  to  the  job.\n",
      "                     (Valid for jobs only)\n",
      "\n",
      "              \u001b[1mMCSLabel\u001b[0m\n",
      "                     Prints the MCS_label of the job.  (Valid for jobs only)\n",
      "\n",
      "              \u001b[1mmem-per-tres\u001b[0m\n",
      "                     Print the memory (in MB) required per trackable resources\n",
      "                     allocated to the job or job step.\n",
      "\n",
      "              \u001b[1mMinCpus\u001b[0m\n",
      "                     Minimum number of CPUs (processors) per node requested by\n",
      "                     the  job.   This  reports the value of the \u001b[1msrun --mincpus\u001b[0m\n",
      "                     option with a default value of  zero.   (Valid  for  jobs\n",
      "                     only)\n",
      "\n",
      "              \u001b[1mMinMemory\u001b[0m\n",
      "                     Minimum  size  of  memory  (in  MB) requested by the job.\n",
      "                     (Valid for jobs only)\n",
      "\n",
      "              \u001b[1mMinTime\u001b[0m\n",
      "                     Minimum time limit of the job (Valid for jobs only)\n",
      "\n",
      "              \u001b[1mMinTmpDisk\u001b[0m\n",
      "                     Minimum size of temporary disk space (in MB) requested by\n",
      "                     the job.  (Valid for jobs only)\n",
      "\n",
      "              \u001b[1mName   \u001b[22mJob or job step name.  (Valid for jobs and job steps)\n",
      "\n",
      "              \u001b[1mNetwork\u001b[0m\n",
      "                     The  network that the job is running on.  (Valid for jobs\n",
      "                     and job steps)\n",
      "\n",
      "              \u001b[1mNice   \u001b[22mNice value (adjustment to a job's  scheduling  priority).\n",
      "                     (Valid for jobs only)\n",
      "\n",
      "              \u001b[1mNodeList\u001b[0m\n",
      "                     List  of  nodes  allocated to the job or job step. In the\n",
      "                     case of a \u001b[4mCOMPLETING\u001b[24m job, the list of nodes will comprise\n",
      "                     only  those nodes that have not yet been returned to ser‐\n",
      "                     vice.  (Valid for jobs only)\n",
      "\n",
      "              \u001b[1mNodes  \u001b[22mList of nodes allocated to the job or job  step.  In  the\n",
      "                     case of a \u001b[4mCOMPLETING\u001b[24m job, the list of nodes will comprise\n",
      "                     only those nodes that have not yet been returned to  ser‐\n",
      "                     vice.  (Valid job steps only)\n",
      "\n",
      "              \u001b[1mNTPerBoard\u001b[0m\n",
      "                     The  number  of  tasks  per  board  allocated to the job.\n",
      "                     (Valid for jobs only)\n",
      "\n",
      "              \u001b[1mNTPerCore\u001b[0m\n",
      "                     The number of  tasks  per  core  allocated  to  the  job.\n",
      "                     (Valid for jobs only)\n",
      "\n",
      "              \u001b[1mNTPerNode\u001b[0m\n",
      "                     The  number  of  tasks  per  node  allocated  to the job.\n",
      "                     (Valid for jobs only)\n",
      "\n",
      "              \u001b[1mNTPerSocket\u001b[0m\n",
      "                     The number of tasks per  socket  allocated  to  the  job.\n",
      "                     (Valid for jobs only)\n",
      "\n",
      "              \u001b[1mNumCPUs\u001b[0m\n",
      "                     Number of CPUs (processors) requested by the job or allo‐\n",
      "                     cated to it if already running.  As a job is  completing,\n",
      "                     this number will reflect the current number of CPUs allo‐\n",
      "                     cated.  (Valid for jobs and job steps)\n",
      "\n",
      "              \u001b[1mNumNodes\u001b[0m\n",
      "                     Number of nodes allocated to the job or the minimum  num‐\n",
      "                     ber of nodes required by a pending job. The actual number\n",
      "                     of nodes allocated to a pending job may exceed this  num‐\n",
      "                     ber  if the job specified a node range count (e.g.  mini‐\n",
      "                     mum and maximum node counts) or the job specifies a  pro‐\n",
      "                     cessor  count  instead  of a node count. As a job is com‐\n",
      "                     pleting this number will reflect the  current  number  of\n",
      "                     nodes allocated.  (Valid for jobs only)\n",
      "\n",
      "              \u001b[1mNumTasks\u001b[0m\n",
      "                     Number  of  tasks  requested  by a job or job step.  This\n",
      "                     reports the value of the  \u001b[1m--ntasks  \u001b[22moption.   (Valid  for\n",
      "                     jobs and job steps)\n",
      "\n",
      "              \u001b[1mOrigin \u001b[22mCluster name where federated job originated from.  (Valid\n",
      "                     for federated jobs only)\n",
      "\n",
      "              \u001b[1mOriginRaw\u001b[0m\n",
      "                     Cluster ID where federated job originated  from.   (Valid\n",
      "                     for federated jobs only)\n",
      "\n",
      "              \u001b[1mOverSubscribe\u001b[0m\n",
      "                     Can  the  compute  resources allocated to the job be over\n",
      "                     subscribed by other jobs.  The resources to be over  sub‐\n",
      "                     scribed  can  be  nodes,  sockets, cores, or hyperthreads\n",
      "                     depending upon configuration.  The value will be \"YES\" if\n",
      "                     the  job  was  submitted with the oversubscribe option or\n",
      "                     the partition  is  configured  with  OverSubscribe=Force,\n",
      "                     \"NO\" if the job requires exclusive node access, \"USER\" if\n",
      "                     the allocated compute nodes are  dedicated  to  a  single\n",
      "                     user,  \"MCS\" if the allocated compute nodes are dedicated\n",
      "                     to a single security class (See MCSPlugin and  MCSParame‐\n",
      "                     ters configuration parameters for more information), \"OK\"\n",
      "                     otherwise (typically allocated  dedicated  CPUs),  (Valid\n",
      "                     for jobs only)\n",
      "\n",
      "              \u001b[1mPartition\u001b[0m\n",
      "                     Partition  of  the  job or job step.  (Valid for jobs and\n",
      "                     job steps)\n",
      "\n",
      "              \u001b[1mPreemptTime\u001b[0m\n",
      "                     The preempt time for the job.  (Valid for jobs only)\n",
      "\n",
      "              \u001b[1mPendingTime\u001b[0m\n",
      "                     The time (in seconds) between start time and submit  time\n",
      "                     of  the  job.   If  the job has not started yet, then the\n",
      "                     time (in seconds) between now and the submit time of  the\n",
      "                     job.  (Valid for jobs only)\n",
      "\n",
      "              \u001b[1mPriority\u001b[0m\n",
      "                     Priority of the job (converted to a floating point number\n",
      "                     between 0.0 and 1.0).  Also see \u001b[1mprioritylong\u001b[22m.  (Valid for\n",
      "                     jobs only)\n",
      "\n",
      "              \u001b[1mPriorityLong\u001b[0m\n",
      "                     Priority  of  the  job  (generally  a very large unsigned\n",
      "                     integer).  Also see \u001b[1mpriority\u001b[22m.  (Valid for jobs only)\n",
      "\n",
      "              \u001b[1mProfile\u001b[0m\n",
      "                     Profile of the job.  (Valid for jobs only)\n",
      "\n",
      "              \u001b[1mQOS    \u001b[22mQuality of service associated with the job.   (Valid  for\n",
      "                     jobs only)\n",
      "\n",
      "              \u001b[1mReason \u001b[22mThe  reason  a  job is in its current state.  See the \u001b[1mJOB\u001b[0m\n",
      "                     \u001b[1mREASON CODES \u001b[22msection below for more information.   (Valid\n",
      "                     for jobs only)\n",
      "\n",
      "              \u001b[1mReasonList\u001b[0m\n",
      "                     For  pending jobs: the reason a job is waiting for execu‐\n",
      "                     tion is printed within parenthesis.  For terminated  jobs\n",
      "                     with  failure: an explanation as to why the job failed is\n",
      "                     printed within parenthesis.  For all  other  job  states:\n",
      "                     the  list  of  allocate  nodes.  See the \u001b[1mJOB REASON CODES\u001b[0m\n",
      "                     section below for  more  information.   (Valid  for  jobs\n",
      "                     only)\n",
      "\n",
      "              \u001b[1mReboot \u001b[22mIndicates  if  the  allocated  nodes  should  be rebooted\n",
      "                     before starting the job.  (Valid on jobs only)\n",
      "\n",
      "              \u001b[1mReqNodes\u001b[0m\n",
      "                     List of node  names  explicitly  requested  by  the  job.\n",
      "                     (Valid for jobs only)\n",
      "\n",
      "              \u001b[1mReqSwitch\u001b[0m\n",
      "                     The  max  number  of  requested  switches by for the job.\n",
      "                     (Valid for jobs only)\n",
      "\n",
      "              \u001b[1mRequeue\u001b[0m\n",
      "                     Prints whether the  job  will  be  requeued  on  failure.\n",
      "                     (Valid for jobs only)\n",
      "\n",
      "              \u001b[1mReservation\u001b[0m\n",
      "                     Reservation for the job.  (Valid for jobs only)\n",
      "\n",
      "              \u001b[1mResizeTime\u001b[0m\n",
      "                     The  amount  of  time changed for the job to run.  (Valid\n",
      "                     for jobs only)\n",
      "\n",
      "              \u001b[1mRestartCnt\u001b[0m\n",
      "                     The number of restarts for  the  job.   (Valid  for  jobs\n",
      "                     only)\n",
      "\n",
      "              \u001b[1mResvPort\u001b[0m\n",
      "                     Reserved ports of the job.  (Valid for job steps only)\n",
      "\n",
      "              \u001b[1mSchedNodes\u001b[0m\n",
      "                     For pending jobs, a list of the nodes expected to be used\n",
      "                     when the job is started.  (Valid for jobs only)\n",
      "\n",
      "              \u001b[1mSCT    \u001b[22mNumber of requested sockets, cores, and  threads  (S:C:T)\n",
      "                     per node for the job.  When (S:C:T) has not been set, \"*\"\n",
      "                     is displayed.  (Valid for jobs only)\n",
      "\n",
      "              \u001b[1mSelectJobInfo\u001b[0m\n",
      "                     Node selection plugin specific data for a  job.  Possible\n",
      "                     data  includes:  Geometry requirement of resource alloca‐\n",
      "                     tion (X,Y,Z dimensions), Connection type (TORUS, MESH, or\n",
      "                     NAV == torus else mesh), Permit rotation of geometry (yes\n",
      "                     or no), Node use (VIRTUAL or COPROCESSOR),  etc.   (Valid\n",
      "                     for jobs only)\n",
      "\n",
      "              \u001b[1mSiblingsActive\u001b[0m\n",
      "                     Cluster  names  of  where  federated  sibling jobs exist.\n",
      "                     (Valid for federated jobs only)\n",
      "\n",
      "              \u001b[1mSiblingsActiveRaw\u001b[0m\n",
      "                     Cluster  IDs  of  where  federated  sibling  jobs  exist.\n",
      "                     (Valid for federated jobs only)\n",
      "\n",
      "              \u001b[1mSiblingsViable\u001b[0m\n",
      "                     Cluster  names of where federated sibling jobs are viable\n",
      "                     to run.  (Valid for federated jobs only)\n",
      "\n",
      "              \u001b[1mSiblingsViableRaw\u001b[0m\n",
      "                     Cluster IDs of where federated  sibling  jobs  viable  to\n",
      "                     run.  (Valid for federated jobs only)\n",
      "\n",
      "              \u001b[1mSockets\u001b[0m\n",
      "                     Number  of  sockets  per node requested by the job.  This\n",
      "                     reports the value of the \u001b[1msrun --sockets-per-node  \u001b[22moption.\n",
      "                     When  \u001b[1m--sockets-per-node  \u001b[22mhas  not  been set, \"*\" is dis‐\n",
      "                     played.  (Valid for jobs only)\n",
      "\n",
      "              \u001b[1mSPerBoard\u001b[0m\n",
      "                     Number of sockets per board allocated to the job.  (Valid\n",
      "                     for jobs only)\n",
      "\n",
      "              \u001b[1mStartTime\u001b[0m\n",
      "                     Actual  or  expected  start  time of the job or job step.\n",
      "                     (Valid for jobs and job steps)\n",
      "\n",
      "              \u001b[1mState  \u001b[22mJob state in extended form.  See the \u001b[1mJOB STATE CODES \u001b[22msec‐\n",
      "                     tion  below  for  a  list of possible states.  (Valid for\n",
      "                     jobs only)\n",
      "\n",
      "              \u001b[1mStateCompact\u001b[0m\n",
      "                     Job state in compact form.  See the \u001b[1mJOB STATE CODES  \u001b[22msec‐\n",
      "                     tion  below  for  a  list of possible states.  (Valid for\n",
      "                     jobs only)\n",
      "\n",
      "              \u001b[1mSTDERR \u001b[22mThe directory for standard error to  output  to.   (Valid\n",
      "                     for jobs only)\n",
      "\n",
      "              \u001b[1mSTDIN  \u001b[22mThe directory for standard in.  (Valid for jobs only)\n",
      "\n",
      "              \u001b[1mSTDOUT \u001b[22mThe  directory for standard out to output to.  (Valid for\n",
      "                     jobs only)\n",
      "\n",
      "              \u001b[1mStepID \u001b[22mJob or job step ID.  In the case of job arrays,  the  job\n",
      "                     ID  format  will  be of the form \"<base_job_id>_<index>\".\n",
      "                     (Valid forjob steps only)\n",
      "\n",
      "              \u001b[1mStepName\u001b[0m\n",
      "                     Job step name.  (Valid for job steps only)\n",
      "\n",
      "              \u001b[1mStepState\u001b[0m\n",
      "                     The state of the job step.  (Valid for job steps only)\n",
      "\n",
      "              \u001b[1mSubmitTime\u001b[0m\n",
      "                     The time that the job was submitted at.  (Valid for  jobs\n",
      "                     only)\n",
      "\n",
      "              \u001b[1msystem_comment\u001b[0m\n",
      "                     System  comment associated with the job.  (Valid for jobs\n",
      "                     only)\n",
      "\n",
      "              \u001b[1mThreads\u001b[0m\n",
      "                     Number of threads per core requested by  the  job.   This\n",
      "                     reports  the value of the \u001b[1msrun --threads-per-core \u001b[22moption.\n",
      "                     When \u001b[1m--threads-per-core \u001b[22mhas not been  set,  \"*\"  is  dis‐\n",
      "                     played.  (Valid for jobs only)\n",
      "\n",
      "              \u001b[1mTimeLeft\u001b[0m\n",
      "                     Time  left  for  the  job  to  execute in days-hours:min‐\n",
      "                     utes:seconds.  This value is  calculated  by  subtracting\n",
      "                     the  job's  time used from its time limit.  The value may\n",
      "                     be \"NOT_SET\" if not yet established or \"UNLIMITED\" for no\n",
      "                     limit.  (Valid for jobs only)\n",
      "\n",
      "              \u001b[1mTimeLimit\u001b[0m\n",
      "                     Timelimit  for  the job or job step.  (Valid for jobs and\n",
      "                     job steps)\n",
      "\n",
      "              \u001b[1mTimeUsed\u001b[0m\n",
      "                     Time used by the  job  or  job  step  in  days-hours:min‐\n",
      "                     utes:seconds.   The  days  and  hours are printed only as\n",
      "                     needed.  For job steps this field shows the elapsed  time\n",
      "                     since execution began and thus will be inaccurate for job\n",
      "                     steps which have  been  suspended.   Clock  skew  between\n",
      "                     nodes  in  the  cluster will cause the time to be inaccu‐\n",
      "                     rate.  If the time is obviously wrong (e.g. negative), it\n",
      "                     displays as \"INVALID\".  (Valid for jobs and job steps)\n",
      "\n",
      "              \u001b[1mtres-alloc\u001b[0m\n",
      "                     Print  the  trackable  resources  allocated to the job if\n",
      "                     running.   If  not  running,  then  print  the  trackable\n",
      "                     resources requested by the job.\n",
      "\n",
      "              \u001b[1mtres-bind\u001b[0m\n",
      "                     Print  the  trackable resources task binding requested by\n",
      "                     the job or job step.\n",
      "\n",
      "              \u001b[1mtres-freq\u001b[0m\n",
      "                     Print the trackable resources  frequencies  requested  by\n",
      "                     the job or job step.\n",
      "\n",
      "              \u001b[1mtres-per-job\u001b[0m\n",
      "                     Print the trackable resources requested by the job.\n",
      "\n",
      "              \u001b[1mtres-per-node\u001b[0m\n",
      "                     Print  the  trackable resources per node requested by the\n",
      "                     job or job step.\n",
      "\n",
      "              \u001b[1mtres-per-socket\u001b[0m\n",
      "                     Print the trackable resources per socket requested by the\n",
      "                     job or job step.\n",
      "\n",
      "              \u001b[1mtres-per-step\u001b[0m\n",
      "                     Print the trackable resources requested by the job step.\n",
      "\n",
      "              \u001b[1mtres-per-task\u001b[0m\n",
      "                     Print  the  trackable resources per task requested by the\n",
      "                     job or job step.\n",
      "\n",
      "              \u001b[1mUserID \u001b[22mUser ID for a job or job step.  (Valid for jobs  and  job\n",
      "                     steps)\n",
      "\n",
      "              \u001b[1mUserName\u001b[0m\n",
      "                     User name for a job or job step.  (Valid for jobs and job\n",
      "                     steps)\n",
      "\n",
      "              \u001b[1mWait4Switch\u001b[0m\n",
      "                     The amount of time to wait  for  the  desired  number  of\n",
      "                     switches.  (Valid for jobs only)\n",
      "\n",
      "              \u001b[1mWCKey  \u001b[22mWorkload  Characterization  Key (wckey).  (Valid for jobs\n",
      "                     only)\n",
      "\n",
      "              \u001b[1mWorkDir\u001b[0m\n",
      "                     The job's working directory.  (Valid for jobs only)\n",
      "\n",
      "       \u001b[1m--help \u001b[22mPrint a help message describing all options \u001b[1msqueue\u001b[22m.\n",
      "\n",
      "       \u001b[1m--hide \u001b[22mDo not display information about jobs and job steps in all  par‐\n",
      "              titions.  By default, information about partitions that are con‐\n",
      "              figured as hidden or are not available to the user's group  will\n",
      "              not be displayed (i.e. this is the default behavior).\n",
      "\n",
      "       \u001b[1m-i\u001b[22m, \u001b[1m--iterate\u001b[22m=<\u001b[4mseconds\u001b[24m>\n",
      "              Repeatedly  gather  and  report the requested information at the\n",
      "              interval specified (in seconds).   By  default,  prints  a  time\n",
      "              stamp with the header.\n",
      "\n",
      "       \u001b[1m-j\u001b[22m, \u001b[1m--jobs\u001b[22m=<\u001b[4mjob_id_list\u001b[24m>\n",
      "              Requests a comma separated list of job IDs to display.  Defaults\n",
      "              to all jobs.  The \u001b[1m--jobs\u001b[22m=<\u001b[4mjob_id_list\u001b[24m> option  may  be  used  in\n",
      "              conjunction  with  the  \u001b[1m--steps \u001b[22moption to print step information\n",
      "              about specific jobs.  Note: If a list of job  IDs  is  provided,\n",
      "              the  jobs  are  displayed even if they are on hidden partitions.\n",
      "              Since this option's argument is optional, for proper parsing the\n",
      "              single letter option must be followed immediately with the value\n",
      "              and not include a space between them. For example  \"-j1008\"  and\n",
      "              not  \"-j 1008\".  The job ID format is \"job_id[_array_id]\".  Per‐\n",
      "              formance of the command can be measurably improved  for  systems\n",
      "              with  large  numbers  of jobs when a single job ID is specified.\n",
      "              By default, this field size will be limited to  64  bytes.   Use\n",
      "              the  environment  variable  SLURM_BITSTR_LEN  to  specify larger\n",
      "              field sizes.\n",
      "\n",
      "       \u001b[1m--json \u001b[22mDump job information as JSON. All other formatting and filtering\n",
      "              arguments will be ignored.\n",
      "\n",
      "       \u001b[1m-L\u001b[22m, \u001b[1m--licenses\u001b[22m=<\u001b[4mlicense_list\u001b[24m>\n",
      "              Request  jobs  requesting  or  using  one  or  more of the named\n",
      "              licenses.  The license list consists of a comma  separated  list\n",
      "              of license names.\n",
      "\n",
      "       \u001b[1m--local\u001b[0m\n",
      "              Show  only  jobs local to this cluster. Ignore other clusters in\n",
      "              this federation (if any). Overrides --federation.\n",
      "\n",
      "       \u001b[1m-l\u001b[22m, \u001b[1m--long\u001b[0m\n",
      "              Report more of the available information for the  selected  jobs\n",
      "              or job steps, subject to any constraints specified.\n",
      "\n",
      "       \u001b[1m--me   \u001b[22mEquivalent to \u001b[1m--user=<my username>\u001b[22m.\n",
      "\n",
      "       \u001b[1m-n\u001b[22m, \u001b[1m--name\u001b[22m=<\u001b[4mname_list\u001b[24m>\n",
      "              Request  jobs  or  job  steps having one of the specified names.\n",
      "              The list consists of a comma separated list of job names.\n",
      "\n",
      "       \u001b[1m--noconvert\u001b[0m\n",
      "              Don't convert units from their original type (e.g.  2048M  won't\n",
      "              be converted to 2G).\n",
      "\n",
      "       \u001b[1m-w\u001b[22m, \u001b[1m--nodelist\u001b[22m=<\u001b[4mhostlist\u001b[24m>\n",
      "              Report  only  on jobs allocated to the specified node or list of\n",
      "              nodes.  This may either  be  the  \u001b[1mNodeName  \u001b[22mor  \u001b[1mNodeHostname  \u001b[22mas\n",
      "              defined  in  \u001b[1mslurm.conf(5)  \u001b[22min  the  event  that they differ.  A\n",
      "              node_name of \u001b[1mlocalhost \u001b[22mis mapped to the current host name.\n",
      "\n",
      "       \u001b[1m-h\u001b[22m, \u001b[1m--noheader\u001b[0m\n",
      "              Do not print a header on the output.\n",
      "\n",
      "       \u001b[1m-p\u001b[22m, \u001b[1m--partition\u001b[22m=<\u001b[4mpart_list\u001b[24m>\n",
      "              Specify the partitions of the jobs or steps to view.  Accepts  a\n",
      "              comma separated list of partition names.\n",
      "\n",
      "       \u001b[1m-P\u001b[22m, \u001b[1m--priority\u001b[0m\n",
      "              For  pending jobs submitted to multiple partitions, list the job\n",
      "              once per partition. In addition, if jobs are sorted by priority,\n",
      "              consider both the partition and job priority. This option can be\n",
      "              used to produce a list of pending jobs in the same order consid‐\n",
      "              ered for scheduling by Slurm with appropriate additional options\n",
      "              (e.g. \"--sort=-p,i --states=PD\").\n",
      "\n",
      "       \u001b[1m-q\u001b[22m, \u001b[1m--qos\u001b[22m=<\u001b[4mqos_list\u001b[24m>\n",
      "              Specify the qos(s) of the jobs or steps to view. Accepts a comma\n",
      "              separated list of qos's.\n",
      "\n",
      "       \u001b[1m-R\u001b[22m, \u001b[1m--reservation\u001b[22m=<\u001b[4mreservation_name\u001b[24m>\n",
      "              Specify the reservation of the jobs to view.\n",
      "\n",
      "       \u001b[1m--sibling\u001b[0m\n",
      "              Show  all sibling jobs on a federated cluster. Implies --federa‐\n",
      "              tion.\n",
      "\n",
      "       \u001b[1m-S\u001b[22m, \u001b[1m--sort\u001b[22m=<\u001b[4msort_list\u001b[24m>\n",
      "              Specification of the order in which records should be  reported.\n",
      "              This  uses  the same field specification as the <output_format>.\n",
      "              The long format option \"cluster\" can also be used to  sort  jobs\n",
      "              or  job  steps  by cluster name (e.g. federated jobs).  Multiple\n",
      "              sorts may be performed by listing multiple sort fields separated\n",
      "              by  commas.   The field specifications may be preceded by \"+\" or\n",
      "              \"-\" for ascending (default) and descending  order  respectively.\n",
      "              For example, a sort value of \"P,U\" will sort the records by par‐\n",
      "              tition name then by user id.  The default value of sort for jobs\n",
      "              is  \"P,t,-p\" (increasing partition name then within a given par‐\n",
      "              tition by increasing job state and  then  decreasing  priority).\n",
      "              The  default  value  of  sort for job steps is \"P,i\" (increasing\n",
      "              partition name then within a given partition by increasing  step\n",
      "              id).\n",
      "\n",
      "       \u001b[1m--start\u001b[0m\n",
      "              Report the expected start time and resources to be allocated for\n",
      "              pending jobs in order of increasing start time.  This is equiva‐\n",
      "              lent  to  the  following options: \u001b[1m--format=\"%.18i %.9P %.8j %.8u\u001b[0m\n",
      "              \u001b[1m%.2t  %.19S %.6D %20Y %R\"\u001b[22m, \u001b[1m--sort=S \u001b[22mand  \u001b[1m--states=PENDING\u001b[22m.   Any\n",
      "              of these options may be explicitly changed as desired by combin‐\n",
      "              ing the \u001b[1m--start \u001b[22moption with other option values (e.g. to  use  a\n",
      "              different  output  format).   The expected start time of pending\n",
      "              jobs is only available if the Slurm is  configured  to  use  the\n",
      "              backfill scheduling plugin.\n",
      "\n",
      "       \u001b[1m-t\u001b[22m, \u001b[1m--states\u001b[22m=<\u001b[4mstate_list\u001b[24m>\n",
      "              Specify  the  states of jobs to view.  Accepts a comma separated\n",
      "              list of state names or \"all\". If \"all\" is specified then jobs of\n",
      "              all states will be reported. If no state is specified then pend‐\n",
      "              ing, running, and completing jobs  are  reported.  See  the  \u001b[1mJOB\u001b[0m\n",
      "              \u001b[1mSTATE  CODES  \u001b[22msection  below  for  a  list of valid states. Both\n",
      "              extended and compact forms are  valid.   Note  the  \u001b[1m<state_list>\u001b[0m\n",
      "              supplied is case insensitive (\"pd\" and \"PD\" are equivalent).\n",
      "\n",
      "       \u001b[1m-s\u001b[22m, \u001b[1m--steps\u001b[0m\n",
      "              Specify the job steps to view.  This flag indicates that a comma\n",
      "              separated list of job steps to view  follows  without  an  equal\n",
      "              sign    (see    examples).     The    job    step    format   is\n",
      "              \"job_id[_array_id].step_id\". Defaults to all  job  steps.  Since\n",
      "              this  option's argument is optional, for proper parsing the sin‐\n",
      "              gle letter option must be followed immediately  with  the  value\n",
      "              and not include a space between them. For example \"-s1008.0\" and\n",
      "              not \"-s 1008.0\".\n",
      "\n",
      "       \u001b[1m--usage\u001b[0m\n",
      "              Print a brief help message listing the \u001b[1msqueue \u001b[22moptions.\n",
      "\n",
      "       \u001b[1m-u\u001b[22m, \u001b[1m--user\u001b[22m=<\u001b[4muser_list\u001b[24m>\n",
      "              Request jobs or job steps from a comma separated list of  users.\n",
      "              The  list can consist of user names or user id numbers.  Perfor‐\n",
      "              mance of the command can be measurably improved for systems with\n",
      "              large numbers of jobs when a single user is specified.\n",
      "\n",
      "       \u001b[1m-v\u001b[22m, \u001b[1m--verbose\u001b[0m\n",
      "              Report details of squeues actions.\n",
      "\n",
      "       \u001b[1m-V \u001b[22m, \u001b[1m--version\u001b[0m\n",
      "              Print version information and exit.\n",
      "\n",
      "       \u001b[1m--yaml \u001b[22mDump job information as YAML. All other formatting and filtering\n",
      "              arguments will be ignored.\n",
      "\n",
      "\u001b[1mJOB REASON CODES\u001b[0m\n",
      "       These codes identify the reason that a job is waiting for execution.  A\n",
      "       job  may be waiting for more than one reason, in which case only one of\n",
      "       those reasons is displayed.\n",
      "\n",
      "       \u001b[1mAssociationJobLimit   \u001b[22mThe job's association has reached its maximum job\n",
      "                             count.\n",
      "\n",
      "       \u001b[1mAssociationResourceLimit\u001b[0m\n",
      "                             The  job's  association has reached some resource\n",
      "                             limit.\n",
      "\n",
      "       \u001b[1mAssociationTimeLimit  \u001b[22mThe job's association has reached its time limit.\n",
      "\n",
      "       \u001b[1mBadConstraints        \u001b[22mThe job's constraints can not be satisfied.\n",
      "\n",
      "       \u001b[1mBeginTime             \u001b[22mThe job's earliest start time has  not  yet  been\n",
      "                             reached.\n",
      "\n",
      "       \u001b[1mCleaning              \u001b[22mThe  job  is being requeued and still cleaning up\n",
      "                             from its previous execution.\n",
      "\n",
      "       \u001b[1mDependency            \u001b[22mThis job is waiting for a dependent job  to  com‐\n",
      "                             plete.\n",
      "\n",
      "       \u001b[1mFrontEndDown          \u001b[22mNo  front  end  node is available to execute this\n",
      "                             job.\n",
      "\n",
      "       \u001b[1mInactiveLimit         \u001b[22mThe job reached the system InactiveLimit.\n",
      "\n",
      "       \u001b[1mInvalidAccount        \u001b[22mThe job's account is invalid.\n",
      "\n",
      "       \u001b[1mInvalidQOS            \u001b[22mThe job's QOS is invalid.\n",
      "\n",
      "       \u001b[1mJobHeldAdmin          \u001b[22mThe job is held by a system administrator.\n",
      "\n",
      "       \u001b[1mJobHeldUser           \u001b[22mThe job is held by the user.\n",
      "\n",
      "       \u001b[1mJobLaunchFailure      \u001b[22mThe job could not be launched.  This may  be  due\n",
      "                             to  a  file system problem, invalid program name,\n",
      "                             etc.\n",
      "\n",
      "       \u001b[1mLicenses              \u001b[22mThe job is waiting for a license.\n",
      "\n",
      "       \u001b[1mNodeDown              \u001b[22mA node required by the job is down.\n",
      "\n",
      "       \u001b[1mNonZeroExitCode       \u001b[22mThe job terminated with a non-zero exit code.\n",
      "\n",
      "       \u001b[1mPartitionDown         \u001b[22mThe partition required by this job is in  a  DOWN\n",
      "                             state.\n",
      "\n",
      "       \u001b[1mPartitionInactive     \u001b[22mThe partition required by this job is in an Inac‐\n",
      "                             tive state and not able to start jobs.\n",
      "\n",
      "       \u001b[1mPartitionNodeLimit    \u001b[22mThe number of nodes required by this job is  out‐\n",
      "                             side of its partition's current limits.  Can also\n",
      "                             indicate that required nodes are DOWN or DRAINED.\n",
      "\n",
      "       \u001b[1mPartitionTimeLimit    \u001b[22mThe job's time limit exceeds its partition's cur‐\n",
      "                             rent time limit.\n",
      "\n",
      "       \u001b[1mPriority              \u001b[22mOne  or  more higher priority jobs exist for this\n",
      "                             partition or advanced reservation.\n",
      "\n",
      "       \u001b[1mProlog                \u001b[22mIts PrologSlurmctld program is still running.\n",
      "\n",
      "       \u001b[1mQOSJobLimit           \u001b[22mThe job's QOS has reached its maximum job count.\n",
      "\n",
      "       \u001b[1mQOSResourceLimit      \u001b[22mThe job's QOS has reached some resource limit.\n",
      "\n",
      "       \u001b[1mQOSTimeLimit          \u001b[22mThe job's QOS has reached its time limit.\n",
      "\n",
      "       \u001b[1mReqNodeNotAvail       \u001b[22mSome node specifically required by the job is not\n",
      "                             currently  available.   The node may currently be\n",
      "                             in use, reserved for another job, in an  advanced\n",
      "                             reservation,  DOWN,  DRAINED,  or not responding.\n",
      "                             Nodes which are DOWN, DRAINED, or not  responding\n",
      "                             will  be identified as part of the job's \"reason\"\n",
      "                             field as \"UnavailableNodes\". Such nodes will typ‐\n",
      "                             ically  require  the  intervention  of  a  system\n",
      "                             administrator to make available.\n",
      "\n",
      "       \u001b[1mReservation           \u001b[22mThe job is waiting its  advanced  reservation  to\n",
      "                             become available.\n",
      "\n",
      "       \u001b[1mResources             \u001b[22mThe job is waiting for resources to become avail‐\n",
      "                             able.\n",
      "\n",
      "       \u001b[1mSystemFailure         \u001b[22mFailure of the Slurm system, a file  system,  the\n",
      "                             network, etc.\n",
      "\n",
      "       \u001b[1mTimeLimit             \u001b[22mThe job exhausted its time limit.\n",
      "\n",
      "       \u001b[1mQOSUsageThreshold     \u001b[22mRequired QOS threshold has been breached.\n",
      "\n",
      "       \u001b[1mWaitingForScheduling  \u001b[22mNo reason has been set for this job yet.  Waiting\n",
      "                             for the scheduler to  determine  the  appropriate\n",
      "                             reason.\n",
      "\n",
      "\u001b[1mJOB STATE CODES\u001b[0m\n",
      "       Jobs  typically pass through several states in the course of their exe‐\n",
      "       cution.  The typical states are PENDING, RUNNING,  SUSPENDED,  COMPLET‐\n",
      "       ING, and COMPLETED.  An explanation of each state follows.\n",
      "\n",
      "       \u001b[1mBF  BOOT_FAIL       \u001b[22mJob terminated due to launch failure, typically due\n",
      "                           to a hardware failure (e.g. unable to boot the node\n",
      "                           or block and the job can not be requeued).\n",
      "\n",
      "       \u001b[1mCA  CANCELLED       \u001b[22mJob  was explicitly cancelled by the user or system\n",
      "                           administrator.  The job may or may  not  have  been\n",
      "                           initiated.\n",
      "\n",
      "       \u001b[1mCD  COMPLETED       \u001b[22mJob  has terminated all processes on all nodes with\n",
      "                           an exit code of zero.\n",
      "\n",
      "       \u001b[1mCF  CONFIGURING     \u001b[22mJob has been allocated resources, but  are  waiting\n",
      "                           for them to become ready for use (e.g. booting).\n",
      "\n",
      "       \u001b[1mCG  COMPLETING      \u001b[22mJob is in the process of completing. Some processes\n",
      "                           on some nodes may still be active.\n",
      "\n",
      "       \u001b[1mDL  DEADLINE        \u001b[22mJob terminated on deadline.\n",
      "\n",
      "       \u001b[1mF   FAILED          \u001b[22mJob terminated with non-zero  exit  code  or  other\n",
      "                           failure condition.\n",
      "\n",
      "       \u001b[1mNF  NODE_FAIL       \u001b[22mJob  terminated due to failure of one or more allo‐\n",
      "                           cated nodes.\n",
      "\n",
      "       \u001b[1mOOM OUT_OF_MEMORY   \u001b[22mJob experienced out of memory error.\n",
      "\n",
      "       \u001b[1mPD  PENDING         \u001b[22mJob is awaiting resource allocation.\n",
      "\n",
      "       \u001b[1mPR  PREEMPTED       \u001b[22mJob terminated due to preemption.\n",
      "\n",
      "       \u001b[1mR   RUNNING         \u001b[22mJob currently has an allocation.\n",
      "\n",
      "       \u001b[1mRD  RESV_DEL_HOLD   \u001b[22mJob is being held after requested  reservation  was\n",
      "                           deleted.\n",
      "\n",
      "       \u001b[1mRF  REQUEUE_FED     \u001b[22mJob is being requeued by a federation.\n",
      "\n",
      "       \u001b[1mRH  REQUEUE_HOLD    \u001b[22mHeld job is being requeued.\n",
      "\n",
      "       \u001b[1mRQ  REQUEUED        \u001b[22mCompleting job is being requeued.\n",
      "\n",
      "       \u001b[1mRS  RESIZING        \u001b[22mJob is about to change size.\n",
      "\n",
      "       \u001b[1mRV  REVOKED         \u001b[22mSibling was removed from cluster due to other clus‐\n",
      "                           ter starting the job.\n",
      "\n",
      "       \u001b[1mSI  SIGNALING       \u001b[22mJob is being signaled.\n",
      "\n",
      "       \u001b[1mSE  SPECIAL_EXIT    \u001b[22mThe job was requeued in a special state. This state\n",
      "                           can  be set by users, typically in EpilogSlurmctld,\n",
      "                           if the job has terminated with  a  particular  exit\n",
      "                           value.\n",
      "\n",
      "       \u001b[1mSO  STAGE_OUT       \u001b[22mJob is staging out files.\n",
      "\n",
      "       \u001b[1mST  STOPPED         \u001b[22mJob  has  an  allocation,  but  execution  has been\n",
      "                           stopped  with  SIGSTOP  signal.   CPUS  have   been\n",
      "                           retained by this job.\n",
      "\n",
      "       \u001b[1mS   SUSPENDED       \u001b[22mJob  has an allocation, but execution has been sus‐\n",
      "                           pended and CPUs have been released for other jobs.\n",
      "\n",
      "       \u001b[1mTO  TIMEOUT         \u001b[22mJob terminated upon reaching its time limit.\n",
      "\n",
      "\u001b[1mPERFORMANCE\u001b[0m\n",
      "       Executing \u001b[1msqueue \u001b[22msends a remote procedure call to \u001b[1mslurmctld\u001b[22m. If  enough\n",
      "       calls  from \u001b[1msqueue \u001b[22mor other Slurm client commands that send remote pro‐\n",
      "       cedure calls to the \u001b[1mslurmctld \u001b[22mdaemon come in at once, it can result  in\n",
      "       a  degradation of performance of the \u001b[1mslurmctld \u001b[22mdaemon, possibly result‐\n",
      "       ing in a denial of service.\n",
      "\n",
      "       Do not run \u001b[1msqueue \u001b[22mor other Slurm client commands that send remote  pro‐\n",
      "       cedure  calls  to  \u001b[1mslurmctld  \u001b[22mfrom loops in shell scripts or other pro‐\n",
      "       grams. Ensure that programs limit calls to \u001b[1msqueue \u001b[22mto the minimum neces‐\n",
      "       sary for the information you are trying to gather.\n",
      "\n",
      "\u001b[1mENVIRONMENT VARIABLES\u001b[0m\n",
      "       Some  \u001b[1msqueue  \u001b[22moptions may be set via environment variables. These envi‐\n",
      "       ronment variables, along with their corresponding options,  are  listed\n",
      "       below.  (Note:  Command  line  options  will always override these set‐\n",
      "       tings.)\n",
      "\n",
      "       \u001b[1mSLURM_BITSTR_LEN    \u001b[22mSpecifies the string length to be used for  holding\n",
      "                           a  job  array's  task  ID  expression.  The default\n",
      "                           value is 64 bytes.  A value of  0  will  print  the\n",
      "                           full  expression  with any length required.  Larger\n",
      "                           values may adversely impact the application perfor‐\n",
      "                           mance.\n",
      "\n",
      "       \u001b[1mSLURM_CLUSTERS      \u001b[22mSame as \u001b[1m--clusters\u001b[0m\n",
      "\n",
      "       \u001b[1mSLURM_CONF          \u001b[22mThe location of the Slurm configuration file.\n",
      "\n",
      "       \u001b[1mSLURM_DEBUG_FLAGS   \u001b[22mSpecify   debug   flags  for  squeue  to  use.  See\n",
      "                           DebugFlags in the \u001b[1mslurm.conf\u001b[22m(5) man page for a full\n",
      "                           list  of  flags.  The  environment  variable  takes\n",
      "                           precedence over the setting in the slurm.conf.\n",
      "\n",
      "       \u001b[1mSLURM_TIME_FORMAT   \u001b[22mSpecify the format used to report  time  stamps.  A\n",
      "                           value  of  \u001b[4mstandard\u001b[24m,  the  default value, generates\n",
      "                           output            in            the            form\n",
      "                           \"year-month-dateThour:minute:second\".   A  value of\n",
      "                           \u001b[4mrelative\u001b[24m returns only \"hour:minute:second\"  if  the\n",
      "                           current  day.   For other dates in the current year\n",
      "                           it prints the \"hour:minute\"  preceded  by  \"Tomorr\"\n",
      "                           (tomorrow),  \"Ystday\"  (yesterday), the name of the\n",
      "                           day for the coming week (e.g. \"Mon\", \"Tue\",  etc.),\n",
      "                           otherwise  the  date  (e.g.  \"25  Apr\").  For other\n",
      "                           years it returns a date month and  year  without  a\n",
      "                           time  (e.g.   \"6 Jun 2012\"). All of the time stamps\n",
      "                           use a 24 hour format.\n",
      "\n",
      "                           A valid strftime() format can  also  be  specified.\n",
      "                           For example, a value of \"%a %T\" will report the day\n",
      "                           of the week and a time stamp (e.g. \"Mon 12:34:56\").\n",
      "\n",
      "       \u001b[1mSQUEUE_ACCOUNT      -A <account_list>, --account=<account_list>\u001b[0m\n",
      "\n",
      "       \u001b[1mSQUEUE_ALL          -a, --all\u001b[0m\n",
      "\n",
      "       \u001b[1mSQUEUE_ARRAY        -r, --array\u001b[0m\n",
      "\n",
      "       \u001b[1mSQUEUE_NAMES        --name=<name_list>\u001b[0m\n",
      "\n",
      "       \u001b[1mSQUEUE_FEDERATION   --federation\u001b[0m\n",
      "\n",
      "       \u001b[1mSQUEUE_FORMAT       -o <output_format>, --format=<output_format>\u001b[0m\n",
      "\n",
      "       \u001b[1mSQUEUE_FORMAT2      -O <output_format>, --Format=<output_format>\u001b[0m\n",
      "\n",
      "       \u001b[1mSQUEUE_LICENSES     -p-l <license_list>, --license=<license_list>\u001b[0m\n",
      "\n",
      "       \u001b[1mSQUEUE_LOCAL        --local\u001b[0m\n",
      "\n",
      "       \u001b[1mSQUEUE_PARTITION    -p <part_list>, --partition=<part_list>\u001b[0m\n",
      "\n",
      "       \u001b[1mSQUEUE_PRIORITY     -P\u001b[22m, \u001b[1m--priority\u001b[0m\n",
      "\n",
      "       \u001b[1mSQUEUE_QOS          -p <qos_list>, --qos=<qos_list>\u001b[0m\n",
      "\n",
      "       \u001b[1mSQUEUE_SIBLING      --sibling\u001b[0m\n",
      "\n",
      "       \u001b[1mSQUEUE_SORT         -S <sort_list>, --sort=<sort_list>\u001b[0m\n",
      "\n",
      "       \u001b[1mSQUEUE_STATES       -t <state_list>, --states=<state_list>\u001b[0m\n",
      "\n",
      "       \u001b[1mSQUEUE_USERS        -u <user_list>, --users=<user_list>\u001b[0m\n",
      "\n",
      "\u001b[1mEXAMPLES\u001b[0m\n",
      "       Print the jobs scheduled in the debug partition and  in  the  COMPLETED\n",
      "       state in the format with six right justified digits for the job id fol‐\n",
      "       lowed by the priority with an arbitrary fields size:\n",
      "\n",
      "              $ squeue -p debug -t COMPLETED -o \"%.6i %p\"\n",
      "               JOBID PRIORITY\n",
      "               65543 99993\n",
      "               65544 99992\n",
      "               65545 99991\n",
      "\n",
      "       Print the job steps in the debug partition sorted by user:\n",
      "\n",
      "              $ squeue -s -p debug -S u\n",
      "                STEPID        NAME PARTITION     USER      TIME NODELIST\n",
      "               65552.1       test1     debug    alice      0:23 dev[1-4]\n",
      "               65562.2     big_run     debug      bob      0:18 dev22\n",
      "               65550.1      param1     debug  candice   1:43:21 dev[6-12]\n",
      "\n",
      "       Print information only about jobs 12345, 12346 and 12348:\n",
      "\n",
      "              $ squeue --jobs 12345,12346,12348\n",
      "               JOBID PARTITION NAME USER ST  TIME  NODES NODELIST(REASON)\n",
      "               12345     debug job1 dave  R   0:21     4 dev[9-12]\n",
      "               12346     debug job2 dave PD   0:00     8 (Resources)\n",
      "               12348     debug job3 ed   PD   0:00     4 (Priority)\n",
      "\n",
      "       Print information only about job step 65552.1:\n",
      "\n",
      "              $ squeue --steps 65552.1\n",
      "                STEPID     NAME PARTITION    USER    TIME  NODELIST\n",
      "               65552.1    test2     debug   alice   12:49  dev[1-4]\n",
      "\n",
      "\u001b[1mCOPYING\u001b[0m\n",
      "       Copyright (C) 2002-2007 The Regents of the  University  of  California.\n",
      "       Produced at Lawrence Livermore National Laboratory (cf, DISCLAIMER).\n",
      "       Copyright (C) 2008-2010 Lawrence Livermore National Security.\n",
      "       Copyright (C) 2010-2022 SchedMD LLC.\n",
      "\n",
      "       This  file  is  part  of  Slurm,  a  resource  management program.  For\n",
      "       details, see <https://slurm.schedmd.com/>.\n",
      "\n",
      "       Slurm is free software; you can redistribute it and/or modify it  under\n",
      "       the  terms  of  the GNU General Public License as published by the Free\n",
      "       Software Foundation; either version 2  of  the  License,  or  (at  your\n",
      "       option) any later version.\n",
      "\n",
      "       Slurm  is  distributed  in the hope that it will be useful, but WITHOUT\n",
      "       ANY WARRANTY; without even the implied warranty of  MERCHANTABILITY  or\n",
      "       FITNESS  FOR  A PARTICULAR PURPOSE.  See the GNU General Public License\n",
      "       for more details.\n",
      "\n",
      "\u001b[1mSEE ALSO\u001b[0m\n",
      "       \u001b[1mscancel\u001b[22m(1), \u001b[1mscontrol\u001b[22m(1), \u001b[1msinfo\u001b[22m(1),  \u001b[1msrun\u001b[22m(1),  \u001b[1mslurm_load_ctl_conf  \u001b[22m(3),\n",
      "       \u001b[1mslurm_load_jobs \u001b[22m(3), \u001b[1mslurm_load_node \u001b[22m(3), \u001b[1mslurm_load_partitions \u001b[22m(3)\n",
      "\n",
      "August 2022                     Slurm Commands                       squeue(1)\n",
      "\n"
     ]
    }
   ],
   "source": [
    "man squeue"
   ]
  },
  {
   "cell_type": "markdown",
   "metadata": {
    "slideshow": {
     "slide_type": "subslide"
    }
   },
   "source": [
    "To finish this example, determine the name of the file containing the job's standard output, then use the `cat` command to display it's contents."
   ]
  },
  {
   "cell_type": "code",
   "execution_count": 12,
   "metadata": {
    "slideshow": {
     "slide_type": "-"
    }
   },
   "outputs": [
    {
     "name": "stdout",
     "output_type": "stream",
     "text": [
      "The argument 'lion' is 4 characters long. Slept for 0.3 seconds.\n",
      "The argument 'tigers' is 6 characters long. Slept for 0.4 seconds.\n",
      "The argument 'argument1' is 9 characters long. Slept for 0.3 seconds.\n",
      "The argument 'argument2' is 9 characters long. Slept for 0.4 seconds.\n",
      "The argument 'argument3' is 9 characters long. Slept for 0.1 seconds.\n",
      "The argument 'argument4' is 9 characters long. Slept for 0.3 seconds.\n",
      "The argument 'argument5' is 9 characters long. Slept for 0.5 seconds.\n",
      "The argument 'argument6' is 9 characters long. Slept for 0.1 seconds.\n",
      "The argument 'argument7' is 9 characters long. Slept for 0.1 seconds.\n",
      "The argument 'argument8' is 9 characters long. Slept for 0.0 seconds.\n",
      "The argument 'argument9' is 9 characters long. Slept for 0.1 seconds.\n",
      "The argument 'argument10' is 10 characters long. Slept for 0.2 seconds.\n",
      "The argument 'argument11' is 10 characters long. Slept for 0.5 seconds.\n",
      "The argument 'argument12' is 10 characters long. Slept for 0.2 seconds.\n",
      "The argument 'argument13' is 10 characters long. Slept for 0.1 seconds.\n",
      "The argument 'argument14' is 10 characters long. Slept for 0.1 seconds.\n",
      "The argument 'argument15' is 10 characters long. Slept for 0.5 seconds.\n",
      "The argument 'argument16' is 10 characters long. Slept for 0.2 seconds.\n",
      "The argument 'argument17' is 10 characters long. Slept for 0.4 seconds.\n",
      "The argument 'argument18' is 10 characters long. Slept for 0.0 seconds.\n",
      "The argument 'argument19' is 10 characters long. Slept for 0.4 seconds.\n",
      "The argument 'argument20' is 10 characters long. Slept for 0.1 seconds.\n",
      "The argument 'argument21' is 10 characters long. Slept for 0.0 seconds.\n",
      "The argument 'argument22' is 10 characters long. Slept for 0.0 seconds.\n",
      "The argument 'argument23' is 10 characters long. Slept for 0.0 seconds.\n",
      "The argument 'argument24' is 10 characters long. Slept for 0.3 seconds.\n",
      "The argument 'argument25' is 10 characters long. Slept for 0.1 seconds.\n",
      "The argument 'argument26' is 10 characters long. Slept for 0.2 seconds.\n",
      "The argument 'argument27' is 10 characters long. Slept for 0.3 seconds.\n",
      "The argument 'argument28' is 10 characters long. Slept for 0.0 seconds.\n",
      "The argument 'argument29' is 10 characters long. Slept for 0.2 seconds.\n",
      "The argument 'argument30' is 10 characters long. Slept for 0.5 seconds.\n",
      "The argument 'argument31' is 10 characters long. Slept for 0.0 seconds.\n",
      "The argument 'argument32' is 10 characters long. Slept for 0.4 seconds.\n",
      "The argument 'argument33' is 10 characters long. Slept for 0.2 seconds.\n",
      "The argument 'argument34' is 10 characters long. Slept for 0.3 seconds.\n",
      "The argument 'argument35' is 10 characters long. Slept for 0.5 seconds.\n",
      "The argument 'argument36' is 10 characters long. Slept for 0.4 seconds.\n",
      "The argument 'argument37' is 10 characters long. Slept for 0.4 seconds.\n",
      "The argument 'argument38' is 10 characters long. Slept for 0.2 seconds.\n",
      "The argument 'argument39' is 10 characters long. Slept for 0.2 seconds.\n",
      "The argument 'argument40' is 10 characters long. Slept for 0.4 seconds.\n",
      "The argument 'argument41' is 10 characters long. Slept for 0.3 seconds.\n",
      "The argument 'argument42' is 10 characters long. Slept for 0.5 seconds.\n",
      "The argument 'argument43' is 10 characters long. Slept for 0.1 seconds.\n",
      "The argument 'argument44' is 10 characters long. Slept for 0.3 seconds.\n",
      "The argument 'argument45' is 10 characters long. Slept for 0.4 seconds.\n",
      "The argument 'argument46' is 10 characters long. Slept for 0.2 seconds.\n",
      "The argument 'argument47' is 10 characters long. Slept for 0.3 seconds.\n",
      "The argument 'argument48' is 10 characters long. Slept for 0.4 seconds.\n",
      "The argument 'argument49' is 10 characters long. Slept for 0.2 seconds.\n",
      "The argument 'argument50' is 10 characters long. Slept for 0.1 seconds.\n",
      "The argument 'argument51' is 10 characters long. Slept for 0.0 seconds.\n",
      "The argument 'argument52' is 10 characters long. Slept for 0.1 seconds.\n",
      "The argument 'argument53' is 10 characters long. Slept for 0.1 seconds.\n",
      "The argument 'argument54' is 10 characters long. Slept for 0.2 seconds.\n",
      "The argument 'argument55' is 10 characters long. Slept for 0.0 seconds.\n",
      "The argument 'argument56' is 10 characters long. Slept for 0.2 seconds.\n",
      "The argument 'argument57' is 10 characters long. Slept for 0.5 seconds.\n",
      "The argument 'argument58' is 10 characters long. Slept for 0.0 seconds.\n",
      "The argument 'argument59' is 10 characters long. Slept for 0.4 seconds.\n",
      "The argument 'argument60' is 10 characters long. Slept for 0.0 seconds.\n",
      "The argument 'argument61' is 10 characters long. Slept for 0.4 seconds.\n",
      "The argument 'argument62' is 10 characters long. Slept for 0.5 seconds.\n",
      "The argument 'argument63' is 10 characters long. Slept for 0.1 seconds.\n",
      "The argument 'argument64' is 10 characters long. Slept for 0.0 seconds.\n",
      "The argument 'argument65' is 10 characters long. Slept for 0.4 seconds.\n",
      "The argument 'argument66' is 10 characters long. Slept for 0.5 seconds.\n",
      "The argument 'argument67' is 10 characters long. Slept for 0.0 seconds.\n",
      "The argument 'argument68' is 10 characters long. Slept for 0.4 seconds.\n",
      "The argument 'argument69' is 10 characters long. Slept for 0.3 seconds.\n",
      "The argument 'argument70' is 10 characters long. Slept for 0.5 seconds.\n",
      "The argument 'argument71' is 10 characters long. Slept for 0.1 seconds.\n",
      "The argument 'argument72' is 10 characters long. Slept for 0.4 seconds.\n",
      "The argument 'argument73' is 10 characters long. Slept for 0.0 seconds.\n",
      "The argument 'argument74' is 10 characters long. Slept for 0.3 seconds.\n",
      "The argument 'argument75' is 10 characters long. Slept for 0.5 seconds.\n",
      "The argument 'argument76' is 10 characters long. Slept for 0.3 seconds.\n",
      "The argument 'argument77' is 10 characters long. Slept for 0.5 seconds.\n",
      "The argument 'argument78' is 10 characters long. Slept for 0.4 seconds.\n",
      "The argument 'argument79' is 10 characters long. Slept for 0.1 seconds.\n",
      "The argument 'argument80' is 10 characters long. Slept for 0.0 seconds.\n",
      "The argument 'argument81' is 10 characters long. Slept for 0.2 seconds.\n",
      "The argument 'argument82' is 10 characters long. Slept for 0.0 seconds.\n",
      "The argument 'argument83' is 10 characters long. Slept for 0.3 seconds.\n",
      "The argument 'argument84' is 10 characters long. Slept for 0.3 seconds.\n",
      "The argument 'argument85' is 10 characters long. Slept for 0.0 seconds.\n",
      "The argument 'argument86' is 10 characters long. Slept for 0.1 seconds.\n",
      "The argument 'argument87' is 10 characters long. Slept for 0.3 seconds.\n",
      "The argument 'argument88' is 10 characters long. Slept for 0.3 seconds.\n",
      "The argument 'argument89' is 10 characters long. Slept for 0.3 seconds.\n",
      "The argument 'argument90' is 10 characters long. Slept for 0.5 seconds.\n",
      "The argument 'argument91' is 10 characters long. Slept for 0.5 seconds.\n",
      "The argument 'argument92' is 10 characters long. Slept for 0.4 seconds.\n",
      "The argument 'argument93' is 10 characters long. Slept for 0.4 seconds.\n",
      "The argument 'argument94' is 10 characters long. Slept for 0.1 seconds.\n",
      "The argument 'argument95' is 10 characters long. Slept for 0.1 seconds.\n",
      "The argument 'argument96' is 10 characters long. Slept for 0.4 seconds.\n",
      "The argument 'argument97' is 10 characters long. Slept for 0.0 seconds.\n",
      "The argument 'argument98' is 10 characters long. Slept for 0.0 seconds.\n",
      "The argument 'argument99' is 10 characters long. Slept for 0.3 seconds.\n",
      "The argument 'argument100' is 11 characters long. Slept for 0.4 seconds.\n",
      "The argument 'argument101' is 11 characters long. Slept for 0.3 seconds.\n",
      "The argument 'argument102' is 11 characters long. Slept for 0.2 seconds.\n",
      "The argument 'argument103' is 11 characters long. Slept for 0.2 seconds.\n",
      "The argument 'argument104' is 11 characters long. Slept for 0.5 seconds.\n",
      "The argument 'argument105' is 11 characters long. Slept for 0.2 seconds.\n",
      "The argument 'argument106' is 11 characters long. Slept for 0.0 seconds.\n",
      "The argument 'argument107' is 11 characters long. Slept for 0.4 seconds.\n",
      "The argument 'argument108' is 11 characters long. Slept for 0.1 seconds.\n",
      "The argument 'argument109' is 11 characters long. Slept for 0.2 seconds.\n",
      "The argument 'argument110' is 11 characters long. Slept for 0.4 seconds.\n",
      "The argument 'argument111' is 11 characters long. Slept for 0.1 seconds.\n",
      "The argument 'argument112' is 11 characters long. Slept for 0.3 seconds.\n",
      "The argument 'argument113' is 11 characters long. Slept for 0.1 seconds.\n",
      "The argument 'argument114' is 11 characters long. Slept for 0.4 seconds.\n",
      "The argument 'argument115' is 11 characters long. Slept for 0.4 seconds.\n",
      "The argument 'argument116' is 11 characters long. Slept for 0.4 seconds.\n",
      "The argument 'argument117' is 11 characters long. Slept for 0.4 seconds.\n",
      "The argument 'argument118' is 11 characters long. Slept for 0.5 seconds.\n",
      "The argument 'argument119' is 11 characters long. Slept for 0.0 seconds.\n",
      "The argument 'argument120' is 11 characters long. Slept for 0.1 seconds.\n",
      "The argument 'argument121' is 11 characters long. Slept for 0.4 seconds.\n",
      "The argument 'argument122' is 11 characters long. Slept for 0.5 seconds.\n",
      "The argument 'argument123' is 11 characters long. Slept for 0.4 seconds.\n",
      "The argument 'argument124' is 11 characters long. Slept for 0.3 seconds.\n",
      "The argument 'argument125' is 11 characters long. Slept for 0.4 seconds.\n",
      "The argument 'argument126' is 11 characters long. Slept for 0.3 seconds.\n",
      "The argument 'argument127' is 11 characters long. Slept for 0.0 seconds.\n",
      "The argument 'argument128' is 11 characters long. Slept for 0.4 seconds.\n",
      "The argument 'argument129' is 11 characters long. Slept for 0.3 seconds.\n",
      "The argument 'argument130' is 11 characters long. Slept for 0.0 seconds.\n",
      "The argument 'argument131' is 11 characters long. Slept for 0.1 seconds.\n",
      "The argument 'argument132' is 11 characters long. Slept for 0.0 seconds.\n",
      "The argument 'argument133' is 11 characters long. Slept for 0.1 seconds.\n",
      "The argument 'argument134' is 11 characters long. Slept for 0.4 seconds.\n",
      "The argument 'argument135' is 11 characters long. Slept for 0.1 seconds.\n",
      "The argument 'argument136' is 11 characters long. Slept for 0.2 seconds.\n",
      "The argument 'argument137' is 11 characters long. Slept for 0.5 seconds.\n",
      "The argument 'argument138' is 11 characters long. Slept for 0.3 seconds.\n",
      "The argument 'argument139' is 11 characters long. Slept for 0.5 seconds.\n",
      "The argument 'argument140' is 11 characters long. Slept for 0.0 seconds.\n",
      "The argument 'argument141' is 11 characters long. Slept for 0.0 seconds.\n",
      "The argument 'argument142' is 11 characters long. Slept for 0.3 seconds.\n",
      "The argument 'argument143' is 11 characters long. Slept for 0.5 seconds.\n",
      "The argument 'argument144' is 11 characters long. Slept for 0.3 seconds.\n",
      "The argument 'argument145' is 11 characters long. Slept for 0.5 seconds.\n",
      "The argument 'argument146' is 11 characters long. Slept for 0.2 seconds.\n",
      "The argument 'argument147' is 11 characters long. Slept for 0.4 seconds.\n",
      "The argument 'argument148' is 11 characters long. Slept for 0.4 seconds.\n",
      "The argument 'argument149' is 11 characters long. Slept for 0.5 seconds.\n",
      "The argument 'argument150' is 11 characters long. Slept for 0.0 seconds.\n",
      "The argument 'argument151' is 11 characters long. Slept for 0.3 seconds.\n",
      "The argument 'argument152' is 11 characters long. Slept for 0.0 seconds.\n",
      "The argument 'argument153' is 11 characters long. Slept for 0.5 seconds.\n",
      "The argument 'argument154' is 11 characters long. Slept for 0.5 seconds.\n",
      "The argument 'argument155' is 11 characters long. Slept for 0.0 seconds.\n",
      "The argument 'argument156' is 11 characters long. Slept for 0.1 seconds.\n",
      "The argument 'argument157' is 11 characters long. Slept for 0.5 seconds.\n",
      "The argument 'argument158' is 11 characters long. Slept for 0.4 seconds.\n",
      "The argument 'argument159' is 11 characters long. Slept for 0.5 seconds.\n",
      "The argument 'argument160' is 11 characters long. Slept for 0.0 seconds.\n",
      "The argument 'argument161' is 11 characters long. Slept for 0.0 seconds.\n",
      "The argument 'argument162' is 11 characters long. Slept for 0.0 seconds.\n",
      "The argument 'argument163' is 11 characters long. Slept for 0.2 seconds.\n",
      "The argument 'argument164' is 11 characters long. Slept for 0.2 seconds.\n",
      "The argument 'argument165' is 11 characters long. Slept for 0.1 seconds.\n",
      "The argument 'argument166' is 11 characters long. Slept for 0.1 seconds.\n",
      "The argument 'argument167' is 11 characters long. Slept for 0.3 seconds.\n",
      "The argument 'argument168' is 11 characters long. Slept for 0.4 seconds.\n",
      "The argument 'argument169' is 11 characters long. Slept for 0.5 seconds.\n",
      "The argument 'argument170' is 11 characters long. Slept for 0.3 seconds.\n",
      "The argument 'argument171' is 11 characters long. Slept for 0.3 seconds.\n",
      "The argument 'argument172' is 11 characters long. Slept for 0.3 seconds.\n",
      "The argument 'argument173' is 11 characters long. Slept for 0.1 seconds.\n",
      "The argument 'argument174' is 11 characters long. Slept for 0.4 seconds.\n",
      "The argument 'argument175' is 11 characters long. Slept for 0.1 seconds.\n",
      "The argument 'argument176' is 11 characters long. Slept for 0.2 seconds.\n",
      "The argument 'argument177' is 11 characters long. Slept for 0.1 seconds.\n",
      "The argument 'argument178' is 11 characters long. Slept for 0.2 seconds.\n",
      "The argument 'argument179' is 11 characters long. Slept for 0.2 seconds.\n",
      "The argument 'argument180' is 11 characters long. Slept for 0.5 seconds.\n",
      "The argument 'argument181' is 11 characters long. Slept for 0.3 seconds.\n",
      "The argument 'argument182' is 11 characters long. Slept for 0.4 seconds.\n",
      "The argument 'argument183' is 11 characters long. Slept for 0.5 seconds.\n",
      "The argument 'argument184' is 11 characters long. Slept for 0.1 seconds.\n",
      "The argument 'argument185' is 11 characters long. Slept for 0.5 seconds.\n",
      "The argument 'argument186' is 11 characters long. Slept for 0.3 seconds.\n",
      "The argument 'argument187' is 11 characters long. Slept for 0.5 seconds.\n",
      "The argument 'argument188' is 11 characters long. Slept for 0.0 seconds.\n",
      "The argument 'argument189' is 11 characters long. Slept for 0.3 seconds.\n",
      "The argument 'argument190' is 11 characters long. Slept for 0.1 seconds.\n",
      "The argument 'argument191' is 11 characters long. Slept for 0.4 seconds.\n",
      "The argument 'argument192' is 11 characters long. Slept for 0.4 seconds.\n",
      "The argument 'argument193' is 11 characters long. Slept for 0.0 seconds.\n",
      "The argument 'argument194' is 11 characters long. Slept for 0.1 seconds.\n",
      "The argument 'argument195' is 11 characters long. Slept for 0.4 seconds.\n",
      "The argument 'argument196' is 11 characters long. Slept for 0.4 seconds.\n",
      "The argument 'argument197' is 11 characters long. Slept for 0.5 seconds.\n",
      "The argument 'argument198' is 11 characters long. Slept for 0.5 seconds.\n",
      "The argument 'argument199' is 11 characters long. Slept for 0.1 seconds.\n",
      "The argument 'argument200' is 11 characters long. Slept for 0.4 seconds.\n",
      "The argument 'argument201' is 11 characters long. Slept for 0.5 seconds.\n",
      "The argument 'argument202' is 11 characters long. Slept for 0.1 seconds.\n",
      "The argument 'argument203' is 11 characters long. Slept for 0.0 seconds.\n",
      "The argument 'argument204' is 11 characters long. Slept for 0.3 seconds.\n",
      "The argument 'argument205' is 11 characters long. Slept for 0.3 seconds.\n",
      "The argument 'argument206' is 11 characters long. Slept for 0.0 seconds.\n",
      "The argument 'argument207' is 11 characters long. Slept for 0.3 seconds.\n",
      "The argument 'argument208' is 11 characters long. Slept for 0.5 seconds.\n",
      "The argument 'argument209' is 11 characters long. Slept for 0.2 seconds.\n",
      "The argument 'argument210' is 11 characters long. Slept for 0.4 seconds.\n",
      "The argument 'argument211' is 11 characters long. Slept for 0.3 seconds.\n",
      "The argument 'argument212' is 11 characters long. Slept for 0.0 seconds.\n",
      "The argument 'argument213' is 11 characters long. Slept for 0.3 seconds.\n",
      "The argument 'argument214' is 11 characters long. Slept for 0.0 seconds.\n",
      "The argument 'argument215' is 11 characters long. Slept for 0.5 seconds.\n",
      "The argument 'argument216' is 11 characters long. Slept for 0.3 seconds.\n",
      "The argument 'argument217' is 11 characters long. Slept for 0.0 seconds.\n",
      "The argument 'argument218' is 11 characters long. Slept for 0.5 seconds.\n",
      "The argument 'argument219' is 11 characters long. Slept for 0.3 seconds.\n",
      "The argument 'argument220' is 11 characters long. Slept for 0.2 seconds.\n",
      "The argument 'argument221' is 11 characters long. Slept for 0.1 seconds.\n",
      "The argument 'argument222' is 11 characters long. Slept for 0.1 seconds.\n",
      "The argument 'argument223' is 11 characters long. Slept for 0.2 seconds.\n",
      "The argument 'argument224' is 11 characters long. Slept for 0.2 seconds.\n",
      "The argument 'argument225' is 11 characters long. Slept for 0.2 seconds.\n",
      "The argument 'argument226' is 11 characters long. Slept for 0.1 seconds.\n",
      "The argument 'argument227' is 11 characters long. Slept for 0.3 seconds.\n",
      "The argument 'argument228' is 11 characters long. Slept for 0.4 seconds.\n",
      "The argument 'argument229' is 11 characters long. Slept for 0.5 seconds.\n",
      "The argument 'argument230' is 11 characters long. Slept for 0.3 seconds.\n",
      "The argument 'argument231' is 11 characters long. Slept for 0.1 seconds.\n",
      "The argument 'argument232' is 11 characters long. Slept for 0.5 seconds.\n",
      "The argument 'argument233' is 11 characters long. Slept for 0.4 seconds.\n",
      "The argument 'argument234' is 11 characters long. Slept for 0.2 seconds.\n",
      "The argument 'argument235' is 11 characters long. Slept for 0.4 seconds.\n",
      "The argument 'argument236' is 11 characters long. Slept for 0.5 seconds.\n",
      "The argument 'argument237' is 11 characters long. Slept for 0.0 seconds.\n",
      "The argument 'argument238' is 11 characters long. Slept for 0.0 seconds.\n",
      "The argument 'argument239' is 11 characters long. Slept for 0.3 seconds.\n",
      "The argument 'argument240' is 11 characters long. Slept for 0.2 seconds.\n",
      "The argument 'argument241' is 11 characters long. Slept for 0.3 seconds.\n",
      "The argument 'argument242' is 11 characters long. Slept for 0.3 seconds.\n",
      "The argument 'argument243' is 11 characters long. Slept for 0.4 seconds.\n",
      "The argument 'argument244' is 11 characters long. Slept for 0.0 seconds.\n",
      "The argument 'argument245' is 11 characters long. Slept for 0.0 seconds.\n",
      "The argument 'argument246' is 11 characters long. Slept for 0.4 seconds.\n",
      "The argument 'argument247' is 11 characters long. Slept for 0.3 seconds.\n",
      "The argument 'argument248' is 11 characters long. Slept for 0.5 seconds.\n",
      "The argument 'argument249' is 11 characters long. Slept for 0.0 seconds.\n",
      "The argument 'argument250' is 11 characters long. Slept for 0.1 seconds.\n",
      "The argument 'argument251' is 11 characters long. Slept for 0.1 seconds.\n",
      "The argument 'argument252' is 11 characters long. Slept for 0.1 seconds.\n",
      "The argument 'argument253' is 11 characters long. Slept for 0.1 seconds.\n",
      "The argument 'argument254' is 11 characters long. Slept for 0.1 seconds.\n",
      "The argument 'argument255' is 11 characters long. Slept for 0.3 seconds.\n",
      "The argument 'argument256' is 11 characters long. Slept for 0.2 seconds.\n",
      "The argument 'argument257' is 11 characters long. Slept for 0.3 seconds.\n",
      "The argument 'argument258' is 11 characters long. Slept for 0.4 seconds.\n",
      "The argument 'argument259' is 11 characters long. Slept for 0.0 seconds.\n",
      "The argument 'argument260' is 11 characters long. Slept for 0.0 seconds.\n",
      "The argument 'argument261' is 11 characters long. Slept for 0.4 seconds.\n",
      "The argument 'argument262' is 11 characters long. Slept for 0.2 seconds.\n",
      "The argument 'argument263' is 11 characters long. Slept for 0.4 seconds.\n",
      "The argument 'argument264' is 11 characters long. Slept for 0.4 seconds.\n",
      "The argument 'argument265' is 11 characters long. Slept for 0.4 seconds.\n",
      "The argument 'argument266' is 11 characters long. Slept for 0.2 seconds.\n",
      "The argument 'argument267' is 11 characters long. Slept for 0.0 seconds.\n",
      "The argument 'argument268' is 11 characters long. Slept for 0.4 seconds.\n",
      "The argument 'argument269' is 11 characters long. Slept for 0.0 seconds.\n",
      "The argument 'argument270' is 11 characters long. Slept for 0.4 seconds.\n",
      "The argument 'argument271' is 11 characters long. Slept for 0.3 seconds.\n",
      "The argument 'argument272' is 11 characters long. Slept for 0.5 seconds.\n",
      "The argument 'argument273' is 11 characters long. Slept for 0.2 seconds.\n",
      "The argument 'argument274' is 11 characters long. Slept for 0.5 seconds.\n",
      "The argument 'argument275' is 11 characters long. Slept for 0.5 seconds.\n",
      "The argument 'argument276' is 11 characters long. Slept for 0.1 seconds.\n",
      "The argument 'argument277' is 11 characters long. Slept for 0.3 seconds.\n",
      "The argument 'argument278' is 11 characters long. Slept for 0.2 seconds.\n",
      "The argument 'argument279' is 11 characters long. Slept for 0.2 seconds.\n",
      "The argument 'argument280' is 11 characters long. Slept for 0.3 seconds.\n",
      "The argument 'argument281' is 11 characters long. Slept for 0.4 seconds.\n",
      "The argument 'argument282' is 11 characters long. Slept for 0.3 seconds.\n",
      "The argument 'argument283' is 11 characters long. Slept for 0.4 seconds.\n",
      "The argument 'argument284' is 11 characters long. Slept for 0.3 seconds.\n",
      "The argument 'argument285' is 11 characters long. Slept for 0.3 seconds.\n",
      "The argument 'argument286' is 11 characters long. Slept for 0.4 seconds.\n",
      "The argument 'argument287' is 11 characters long. Slept for 0.0 seconds.\n",
      "The argument 'argument288' is 11 characters long. Slept for 0.3 seconds.\n",
      "The argument 'argument289' is 11 characters long. Slept for 0.0 seconds.\n",
      "The argument 'argument290' is 11 characters long. Slept for 0.3 seconds.\n",
      "The argument 'argument291' is 11 characters long. Slept for 0.5 seconds.\n",
      "The argument 'argument292' is 11 characters long. Slept for 0.1 seconds.\n",
      "The argument 'argument293' is 11 characters long. Slept for 0.2 seconds.\n",
      "The argument 'argument294' is 11 characters long. Slept for 0.2 seconds.\n",
      "The argument 'argument295' is 11 characters long. Slept for 0.4 seconds.\n",
      "The argument 'argument296' is 11 characters long. Slept for 0.0 seconds.\n",
      "The argument 'argument297' is 11 characters long. Slept for 0.3 seconds.\n",
      "The argument 'argument298' is 11 characters long. Slept for 0.2 seconds.\n",
      "The argument 'argument299' is 11 characters long. Slept for 0.5 seconds.\n",
      "The argument 'argument300' is 11 characters long. Slept for 0.4 seconds.\n",
      "The argument 'argument301' is 11 characters long. Slept for 0.5 seconds.\n",
      "The argument 'argument302' is 11 characters long. Slept for 0.2 seconds.\n",
      "The argument 'argument303' is 11 characters long. Slept for 0.1 seconds.\n",
      "The argument 'argument304' is 11 characters long. Slept for 0.5 seconds.\n",
      "The argument 'argument305' is 11 characters long. Slept for 0.4 seconds.\n",
      "The argument 'argument306' is 11 characters long. Slept for 0.4 seconds.\n",
      "The argument 'argument307' is 11 characters long. Slept for 0.3 seconds.\n",
      "The argument 'argument308' is 11 characters long. Slept for 0.2 seconds.\n",
      "The argument 'argument309' is 11 characters long. Slept for 0.2 seconds.\n",
      "The argument 'argument310' is 11 characters long. Slept for 0.4 seconds.\n",
      "The argument 'argument311' is 11 characters long. Slept for 0.0 seconds.\n",
      "The argument 'argument312' is 11 characters long. Slept for 0.0 seconds.\n",
      "The argument 'argument313' is 11 characters long. Slept for 0.2 seconds.\n",
      "The argument 'argument314' is 11 characters long. Slept for 0.1 seconds.\n",
      "The argument 'argument315' is 11 characters long. Slept for 0.0 seconds.\n",
      "The argument 'argument316' is 11 characters long. Slept for 0.3 seconds.\n",
      "The argument 'argument317' is 11 characters long. Slept for 0.2 seconds.\n",
      "The argument 'argument318' is 11 characters long. Slept for 0.4 seconds.\n",
      "The argument 'argument319' is 11 characters long. Slept for 0.1 seconds.\n",
      "The argument 'argument320' is 11 characters long. Slept for 0.2 seconds.\n",
      "The argument 'argument321' is 11 characters long. Slept for 0.3 seconds.\n",
      "The argument 'argument322' is 11 characters long. Slept for 0.3 seconds.\n",
      "The argument 'argument323' is 11 characters long. Slept for 0.5 seconds.\n",
      "The argument 'argument324' is 11 characters long. Slept for 0.5 seconds.\n",
      "The argument 'argument325' is 11 characters long. Slept for 0.2 seconds.\n",
      "The argument 'argument326' is 11 characters long. Slept for 0.1 seconds.\n",
      "The argument 'argument327' is 11 characters long. Slept for 0.2 seconds.\n",
      "The argument 'argument328' is 11 characters long. Slept for 0.1 seconds.\n",
      "The argument 'argument329' is 11 characters long. Slept for 0.4 seconds.\n",
      "The argument 'argument330' is 11 characters long. Slept for 0.0 seconds.\n",
      "The argument 'argument331' is 11 characters long. Slept for 0.2 seconds.\n",
      "The argument 'argument332' is 11 characters long. Slept for 0.0 seconds.\n",
      "The argument 'argument333' is 11 characters long. Slept for 0.5 seconds.\n",
      "The argument 'argument334' is 11 characters long. Slept for 0.0 seconds.\n",
      "The argument 'argument335' is 11 characters long. Slept for 0.2 seconds.\n",
      "The argument 'argument336' is 11 characters long. Slept for 0.4 seconds.\n",
      "The argument 'argument337' is 11 characters long. Slept for 0.4 seconds.\n",
      "The argument 'argument338' is 11 characters long. Slept for 0.5 seconds.\n",
      "The argument 'argument339' is 11 characters long. Slept for 0.2 seconds.\n",
      "The argument 'argument340' is 11 characters long. Slept for 0.5 seconds.\n",
      "The argument 'argument341' is 11 characters long. Slept for 0.1 seconds.\n",
      "The argument 'argument342' is 11 characters long. Slept for 0.3 seconds.\n",
      "The argument 'argument343' is 11 characters long. Slept for 0.4 seconds.\n",
      "The argument 'argument344' is 11 characters long. Slept for 0.0 seconds.\n",
      "The argument 'argument345' is 11 characters long. Slept for 0.0 seconds.\n",
      "The argument 'argument346' is 11 characters long. Slept for 0.1 seconds.\n",
      "The argument 'argument347' is 11 characters long. Slept for 0.3 seconds.\n",
      "The argument 'argument348' is 11 characters long. Slept for 0.0 seconds.\n",
      "The argument 'argument349' is 11 characters long. Slept for 0.1 seconds.\n",
      "The argument 'argument350' is 11 characters long. Slept for 0.3 seconds.\n",
      "The argument 'argument351' is 11 characters long. Slept for 0.4 seconds.\n",
      "The argument 'argument352' is 11 characters long. Slept for 0.1 seconds.\n",
      "The argument 'argument353' is 11 characters long. Slept for 0.0 seconds.\n",
      "The argument 'argument354' is 11 characters long. Slept for 0.1 seconds.\n",
      "The argument 'argument355' is 11 characters long. Slept for 0.3 seconds.\n",
      "The argument 'argument356' is 11 characters long. Slept for 0.3 seconds.\n",
      "The argument 'argument357' is 11 characters long. Slept for 0.1 seconds.\n",
      "The argument 'argument358' is 11 characters long. Slept for 0.1 seconds.\n",
      "The argument 'argument359' is 11 characters long. Slept for 0.0 seconds.\n",
      "The argument 'argument360' is 11 characters long. Slept for 0.1 seconds.\n",
      "The argument 'argument361' is 11 characters long. Slept for 0.4 seconds.\n",
      "The argument 'argument362' is 11 characters long. Slept for 0.1 seconds.\n",
      "The argument 'argument363' is 11 characters long. Slept for 0.2 seconds.\n",
      "The argument 'argument364' is 11 characters long. Slept for 0.1 seconds.\n",
      "The argument 'argument365' is 11 characters long. Slept for 0.0 seconds.\n",
      "The argument 'argument366' is 11 characters long. Slept for 0.0 seconds.\n",
      "The argument 'argument367' is 11 characters long. Slept for 0.4 seconds.\n",
      "The argument 'argument368' is 11 characters long. Slept for 0.4 seconds.\n",
      "The argument 'argument369' is 11 characters long. Slept for 0.1 seconds.\n",
      "The argument 'argument370' is 11 characters long. Slept for 0.0 seconds.\n",
      "The argument 'argument371' is 11 characters long. Slept for 0.2 seconds.\n",
      "The argument 'argument372' is 11 characters long. Slept for 0.4 seconds.\n",
      "The argument 'argument373' is 11 characters long. Slept for 0.5 seconds.\n",
      "The argument 'argument374' is 11 characters long. Slept for 0.1 seconds.\n",
      "The argument 'argument375' is 11 characters long. Slept for 0.1 seconds.\n",
      "The argument 'argument376' is 11 characters long. Slept for 0.1 seconds.\n",
      "The argument 'argument377' is 11 characters long. Slept for 0.0 seconds.\n",
      "The argument 'argument378' is 11 characters long. Slept for 0.4 seconds.\n",
      "The argument 'argument379' is 11 characters long. Slept for 0.2 seconds.\n",
      "The argument 'argument380' is 11 characters long. Slept for 0.0 seconds.\n",
      "The argument 'argument381' is 11 characters long. Slept for 0.1 seconds.\n",
      "The argument 'argument382' is 11 characters long. Slept for 0.2 seconds.\n",
      "The argument 'argument383' is 11 characters long. Slept for 0.5 seconds.\n",
      "The argument 'argument384' is 11 characters long. Slept for 0.1 seconds.\n",
      "The argument 'argument385' is 11 characters long. Slept for 0.0 seconds.\n",
      "The argument 'argument386' is 11 characters long. Slept for 0.1 seconds.\n",
      "The argument 'argument387' is 11 characters long. Slept for 0.4 seconds.\n",
      "The argument 'argument388' is 11 characters long. Slept for 0.3 seconds.\n",
      "The argument 'argument389' is 11 characters long. Slept for 0.3 seconds.\n",
      "The argument 'argument390' is 11 characters long. Slept for 0.1 seconds.\n",
      "The argument 'argument391' is 11 characters long. Slept for 0.5 seconds.\n",
      "The argument 'argument392' is 11 characters long. Slept for 0.1 seconds.\n",
      "The argument 'argument393' is 11 characters long. Slept for 0.5 seconds.\n",
      "The argument 'argument394' is 11 characters long. Slept for 0.2 seconds.\n",
      "The argument 'argument395' is 11 characters long. Slept for 0.3 seconds.\n",
      "The argument 'argument396' is 11 characters long. Slept for 0.0 seconds.\n",
      "The argument 'argument397' is 11 characters long. Slept for 0.4 seconds.\n",
      "The argument 'argument398' is 11 characters long. Slept for 0.5 seconds.\n",
      "The argument 'argument399' is 11 characters long. Slept for 0.0 seconds.\n",
      "The argument 'argument400' is 11 characters long. Slept for 0.1 seconds.\n",
      "The argument 'argument401' is 11 characters long. Slept for 0.4 seconds.\n",
      "The argument 'argument402' is 11 characters long. Slept for 0.3 seconds.\n",
      "The argument 'argument403' is 11 characters long. Slept for 0.0 seconds.\n",
      "The argument 'argument404' is 11 characters long. Slept for 0.2 seconds.\n",
      "The argument 'argument405' is 11 characters long. Slept for 0.0 seconds.\n",
      "The argument 'argument406' is 11 characters long. Slept for 0.4 seconds.\n",
      "The argument 'argument407' is 11 characters long. Slept for 0.5 seconds.\n",
      "The argument 'argument408' is 11 characters long. Slept for 0.5 seconds.\n",
      "The argument 'argument409' is 11 characters long. Slept for 0.0 seconds.\n",
      "The argument 'argument410' is 11 characters long. Slept for 0.3 seconds.\n",
      "The argument 'argument411' is 11 characters long. Slept for 0.3 seconds.\n",
      "The argument 'argument412' is 11 characters long. Slept for 0.4 seconds.\n",
      "The argument 'argument413' is 11 characters long. Slept for 0.5 seconds.\n",
      "The argument 'argument414' is 11 characters long. Slept for 0.4 seconds.\n",
      "The argument 'argument415' is 11 characters long. Slept for 0.4 seconds.\n",
      "The argument 'argument416' is 11 characters long. Slept for 0.1 seconds.\n",
      "The argument 'argument417' is 11 characters long. Slept for 0.0 seconds.\n",
      "The argument 'argument418' is 11 characters long. Slept for 0.5 seconds.\n",
      "The argument 'argument419' is 11 characters long. Slept for 0.0 seconds.\n",
      "The argument 'argument420' is 11 characters long. Slept for 0.2 seconds.\n",
      "The argument 'argument421' is 11 characters long. Slept for 0.4 seconds.\n",
      "The argument 'argument422' is 11 characters long. Slept for 0.3 seconds.\n",
      "The argument 'argument423' is 11 characters long. Slept for 0.2 seconds.\n",
      "The argument 'argument424' is 11 characters long. Slept for 0.2 seconds.\n",
      "The argument 'argument425' is 11 characters long. Slept for 0.1 seconds.\n",
      "The argument 'argument426' is 11 characters long. Slept for 0.4 seconds.\n",
      "The argument 'argument427' is 11 characters long. Slept for 0.3 seconds.\n",
      "The argument 'argument428' is 11 characters long. Slept for 0.4 seconds.\n",
      "The argument 'argument429' is 11 characters long. Slept for 0.3 seconds.\n",
      "The argument 'argument430' is 11 characters long. Slept for 0.0 seconds.\n",
      "The argument 'argument431' is 11 characters long. Slept for 0.4 seconds.\n",
      "The argument 'argument432' is 11 characters long. Slept for 0.2 seconds.\n",
      "The argument 'argument433' is 11 characters long. Slept for 0.3 seconds.\n",
      "The argument 'argument434' is 11 characters long. Slept for 0.0 seconds.\n",
      "The argument 'argument435' is 11 characters long. Slept for 0.0 seconds.\n",
      "The argument 'argument436' is 11 characters long. Slept for 0.3 seconds.\n",
      "The argument 'argument437' is 11 characters long. Slept for 0.0 seconds.\n",
      "The argument 'argument438' is 11 characters long. Slept for 0.1 seconds.\n",
      "The argument 'argument439' is 11 characters long. Slept for 0.1 seconds.\n",
      "The argument 'argument440' is 11 characters long. Slept for 0.4 seconds.\n",
      "The argument 'argument441' is 11 characters long. Slept for 0.0 seconds.\n",
      "The argument 'argument442' is 11 characters long. Slept for 0.1 seconds.\n",
      "The argument 'argument443' is 11 characters long. Slept for 0.5 seconds.\n",
      "The argument 'argument444' is 11 characters long. Slept for 0.0 seconds.\n",
      "The argument 'argument445' is 11 characters long. Slept for 0.4 seconds.\n",
      "The argument 'argument446' is 11 characters long. Slept for 0.2 seconds.\n",
      "The argument 'argument447' is 11 characters long. Slept for 0.0 seconds.\n",
      "The argument 'argument448' is 11 characters long. Slept for 0.4 seconds.\n",
      "The argument 'argument449' is 11 characters long. Slept for 0.1 seconds.\n",
      "The argument 'argument450' is 11 characters long. Slept for 0.0 seconds.\n",
      "The argument 'argument451' is 11 characters long. Slept for 0.2 seconds.\n",
      "The argument 'argument452' is 11 characters long. Slept for 0.4 seconds.\n",
      "The argument 'argument453' is 11 characters long. Slept for 0.0 seconds.\n",
      "The argument 'argument454' is 11 characters long. Slept for 0.4 seconds.\n",
      "The argument 'argument455' is 11 characters long. Slept for 0.2 seconds.\n",
      "The argument 'argument456' is 11 characters long. Slept for 0.5 seconds.\n",
      "The argument 'argument457' is 11 characters long. Slept for 0.3 seconds.\n",
      "The argument 'argument458' is 11 characters long. Slept for 0.1 seconds.\n",
      "The argument 'argument459' is 11 characters long. Slept for 0.4 seconds.\n",
      "The argument 'argument460' is 11 characters long. Slept for 0.3 seconds.\n",
      "The argument 'argument461' is 11 characters long. Slept for 0.3 seconds.\n",
      "The argument 'argument462' is 11 characters long. Slept for 0.1 seconds.\n",
      "The argument 'argument463' is 11 characters long. Slept for 0.0 seconds.\n",
      "The argument 'argument464' is 11 characters long. Slept for 0.1 seconds.\n",
      "The argument 'argument465' is 11 characters long. Slept for 0.0 seconds.\n",
      "The argument 'argument466' is 11 characters long. Slept for 0.3 seconds.\n",
      "The argument 'argument467' is 11 characters long. Slept for 0.2 seconds.\n",
      "The argument 'argument468' is 11 characters long. Slept for 0.1 seconds.\n",
      "The argument 'argument469' is 11 characters long. Slept for 0.2 seconds.\n",
      "The argument 'argument470' is 11 characters long. Slept for 0.0 seconds.\n",
      "The argument 'argument471' is 11 characters long. Slept for 0.2 seconds.\n",
      "The argument 'argument472' is 11 characters long. Slept for 0.2 seconds.\n",
      "The argument 'argument473' is 11 characters long. Slept for 0.5 seconds.\n",
      "The argument 'argument474' is 11 characters long. Slept for 0.4 seconds.\n",
      "The argument 'argument475' is 11 characters long. Slept for 0.3 seconds.\n",
      "The argument 'argument476' is 11 characters long. Slept for 0.4 seconds.\n",
      "The argument 'argument477' is 11 characters long. Slept for 0.1 seconds.\n",
      "The argument 'argument478' is 11 characters long. Slept for 0.0 seconds.\n",
      "The argument 'argument479' is 11 characters long. Slept for 0.0 seconds.\n",
      "The argument 'argument480' is 11 characters long. Slept for 0.3 seconds.\n",
      "The argument 'argument481' is 11 characters long. Slept for 0.4 seconds.\n",
      "The argument 'argument482' is 11 characters long. Slept for 0.0 seconds.\n",
      "The argument 'argument483' is 11 characters long. Slept for 0.2 seconds.\n",
      "The argument 'argument484' is 11 characters long. Slept for 0.3 seconds.\n",
      "The argument 'argument485' is 11 characters long. Slept for 0.5 seconds.\n",
      "The argument 'argument486' is 11 characters long. Slept for 0.1 seconds.\n",
      "The argument 'argument487' is 11 characters long. Slept for 0.1 seconds.\n",
      "The argument 'argument488' is 11 characters long. Slept for 0.2 seconds.\n",
      "The argument 'argument489' is 11 characters long. Slept for 0.1 seconds.\n",
      "The argument 'argument490' is 11 characters long. Slept for 0.1 seconds.\n",
      "The argument 'argument491' is 11 characters long. Slept for 0.5 seconds.\n",
      "The argument 'argument492' is 11 characters long. Slept for 0.4 seconds.\n",
      "The argument 'argument493' is 11 characters long. Slept for 0.3 seconds.\n",
      "The argument 'argument494' is 11 characters long. Slept for 0.0 seconds.\n",
      "The argument 'argument495' is 11 characters long. Slept for 0.5 seconds.\n",
      "The argument 'argument496' is 11 characters long. Slept for 0.1 seconds.\n",
      "The argument 'argument497' is 11 characters long. Slept for 0.1 seconds.\n",
      "The argument 'argument498' is 11 characters long. Slept for 0.2 seconds.\n",
      "The argument 'argument499' is 11 characters long. Slept for 0.4 seconds.\n",
      "The argument 'argument500' is 11 characters long. Slept for 0.5 seconds.\n",
      "The argument 'bear' is 4 characters long. Slept for 0.3 seconds.\n",
      "\n"
     ]
    }
   ],
   "source": [
    "# TASK: display output\n",
    "cat out.log"
   ]
  },
  {
   "cell_type": "markdown",
   "metadata": {
    "slideshow": {
     "slide_type": "subslide"
    }
   },
   "source": [
    "### **Example 3**"
   ]
  },
  {
   "cell_type": "markdown",
   "metadata": {},
   "source": [
    "Use `SHIFT`+`ENTER` to create the file `example-three.sh` containing the code from the next cell,"
   ]
  },
  {
   "cell_type": "code",
   "execution_count": 13,
   "metadata": {
    "scrolled": true,
    "slideshow": {
     "slide_type": "-"
    }
   },
   "outputs": [
    {
     "name": "stdout",
     "output_type": "stream",
     "text": [
      "Created file '/home/DAVIDSON/jedonovan/tutorials/example-three.sh'.\n"
     ]
    }
   ],
   "source": [
    "%%file \"example-three.sh\"\n",
    "#!/bin/bash\n",
    "### Job Parameters:\n",
    "#SBATCH --job-name \"Recursive\"     # job name\n",
    "#SBATCH --output   \"recursive.log\" # place to log output\n",
    "#SBATCH --open-mode append         # always append to logs\n",
    "#SBATCH --begin     now+10         # specify when the job should start\n",
    "                                   # .. (waits 10 seconds after submission)\n",
    "### Script To Execute:\n",
    "# print job detials\n",
    "echo \"Running job $SLURM_JOB_ID\"\n",
    "echo \"Batch script file: $0\"\n",
    "\n",
    "# submit new job using *this* script (recursion)\n",
    "sbatch \"$0\""
   ]
  },
  {
   "cell_type": "markdown",
   "metadata": {
    "slideshow": {
     "slide_type": "subslide"
    }
   },
   "source": [
    "#### Submiting The Script & Getting Results"
   ]
  },
  {
   "cell_type": "markdown",
   "metadata": {
    "slideshow": {
     "slide_type": "-"
    }
   },
   "source": [
    "We'll submit the job to SLURM as normal, however this time we will request that it be considered for execution immediately. "
   ]
  },
  {
   "cell_type": "code",
   "execution_count": 14,
   "metadata": {
    "slideshow": {
     "slide_type": "fragment"
    }
   },
   "outputs": [
    {
     "name": "stdout",
     "output_type": "stream",
     "text": [
      "Submitted batch job 146878\n",
      "\n"
     ]
    }
   ],
   "source": [
    "# execute this cell using SHIFT+ENTER\n",
    "sbatch --begin now example-three.sh"
   ]
  },
  {
   "cell_type": "markdown",
   "metadata": {
    "slideshow": {
     "slide_type": "fragment"
    }
   },
   "source": [
    "As it turns out, any piece of information which can be provided by an `#SBATCH` line in a batch-script, can be directly passed to `sbatch` as a command-line argument (and vice versa). "
   ]
  },
  {
   "cell_type": "markdown",
   "metadata": {
    "slideshow": {
     "slide_type": "subslide"
    }
   },
   "source": [
    "As an example, let's submit a job using the same script, but have the initial job request 1G of memory per cpu, and not start running until after tomorrow at mid-night."
   ]
  },
  {
   "cell_type": "code",
   "execution_count": 15,
   "metadata": {
    "slideshow": {
     "slide_type": "-"
    }
   },
   "outputs": [
    {
     "name": "stdout",
     "output_type": "stream",
     "text": [
      "Submitted batch job 146882\n",
      "\n"
     ]
    }
   ],
   "source": [
    "# execute this cell using SHIFT+ENTER\n",
    "sbatch --mem-per-cpu 1024 --begin tomorrow example-three.sh "
   ]
  },
  {
   "cell_type": "markdown",
   "metadata": {
    "slideshow": {
     "slide_type": "subslide"
    }
   },
   "source": [
    "Let's check the status of the jobs we've submitted. This time, we'll only request information about jobs with the name \"Recursive\" associated with our user."
   ]
  },
  {
   "cell_type": "code",
   "execution_count": 16,
   "metadata": {
    "scrolled": true,
    "slideshow": {
     "slide_type": "-"
    }
   },
   "outputs": [
    {
     "name": "stdout",
     "output_type": "stream",
     "text": [
      "             JOBID PARTITION     NAME     USER ST       TIME  NODES NODELIST(REASON)\n",
      "            146882     basic Recursiv jedonova PD       0:00      1 (BeginTime)\n",
      "            146884     basic Recursiv jedonova PD       0:00      1 (BeginTime)\n",
      "\n"
     ]
    }
   ],
   "source": [
    "# execute this cell using SHIFT+ENTER\n",
    "squeue --user $USER --name \"Recursive\" "
   ]
  },
  {
   "cell_type": "markdown",
   "metadata": {
    "slideshow": {
     "slide_type": "subslide"
    }
   },
   "source": [
    "Since these jobs are recursive, they will keep resubmitting themselves *forever*. \n",
    "\n",
    "As a result, it's important for us to stop (or *cancel*) any instances which appear in the queue.  To accomplish this, we'll use the command `scancel`. "
   ]
  },
  {
   "cell_type": "markdown",
   "metadata": {
    "slideshow": {
     "slide_type": "fragment"
    }
   },
   "source": [
    "This command can handle some of the same arguments as `squeue`. In particular, to cancel all jobs with the name \"Recursive\" associated with our user, we just run,"
   ]
  },
  {
   "cell_type": "code",
   "execution_count": 18,
   "metadata": {
    "slideshow": {
     "slide_type": "-"
    }
   },
   "outputs": [
    {
     "name": "stdout",
     "output_type": "stream",
     "text": [
      "\n"
     ]
    }
   ],
   "source": [
    "# execute this cell using SHIFT+ENTER\n",
    "scancel --user $USER --name \"Recursive\""
   ]
  },
  {
   "cell_type": "markdown",
   "metadata": {
    "slideshow": {
     "slide_type": "subslide"
    }
   },
   "source": [
    "Finally, if you want historical information about the jobs you've submitted, you use the `sacct` command. Moreover, it has argments which are similar to those of `squeue`. "
   ]
  },
  {
   "cell_type": "markdown",
   "metadata": {
    "slideshow": {
     "slide_type": "fragment"
    }
   },
   "source": [
    "For example, to see a list of jobs (past and present) associated with your user, we can use the following,"
   ]
  },
  {
   "cell_type": "code",
   "execution_count": 19,
   "metadata": {
    "slideshow": {
     "slide_type": "-"
    }
   },
   "outputs": [
    {
     "name": "stdout",
     "output_type": "stream",
     "text": [
      "JobID           JobName  Partition    Account  AllocCPUS      State ExitCode \n",
      "------------ ---------- ---------- ---------- ---------- ---------- -------- \n",
      "146874       PUB:Jupyt+      basic     public          2    RUNNING      0:0 \n",
      "146874.batch      batch                public          2    RUNNING      0:0 \n",
      "146874.0      runner.sh                public          2    RUNNING      0:0 \n",
      "146875        My Letter      basic     public          1  COMPLETED      0:0 \n",
      "146875.batch      batch                public          1  COMPLETED      0:0 \n",
      "146876        Arguments      basic     public          2  COMPLETED      0:0 \n",
      "146876.batch      batch                public          2  COMPLETED      0:0 \n",
      "146878        Recursive      basic     public          1  COMPLETED      0:0 \n",
      "146878.batch      batch                public          1  COMPLETED      0:0 \n",
      "146879        Recursive      basic     public          1  COMPLETED      0:0 \n",
      "146879.batch      batch                public          1  COMPLETED      0:0 \n",
      "146880        Recursive      basic     public          1  COMPLETED      0:0 \n",
      "146880.batch      batch                public          1  COMPLETED      0:0 \n",
      "146881        Recursive      basic     public          1  COMPLETED      0:0 \n",
      "146881.batch      batch                public          1  COMPLETED      0:0 \n",
      "146883        Recursive      basic     public          1  COMPLETED      0:0 \n",
      "146883.batch      batch                public          1  COMPLETED      0:0 \n",
      "146884        Recursive      basic     public          1  COMPLETED      0:0 \n",
      "146884.batch      batch                public          1  COMPLETED      0:0 \n",
      "146885        Recursive      basic     public          1 CANCELLED+      0:0 \n",
      "\n"
     ]
    }
   ],
   "source": [
    "# execute this cell using SHIFT+ENTER\n",
    "sacct --user $USER"
   ]
  },
  {
   "cell_type": "code",
   "execution_count": null,
   "metadata": {},
   "outputs": [],
   "source": []
  }
 ],
 "metadata": {
  "kernelspec": {
   "display_name": "Bash",
   "language": "bash",
   "name": "calysto_bash"
  },
  "language_info": {
   "file_extension": ".sh",
   "help_links": [
    {
     "text": "MetaKernel Magics",
     "url": "https://metakernel.readthedocs.io/en/latest/source/README.html"
    }
   ],
   "mimetype": "text/x-sh",
   "name": "bash",
   "version": "0.2.2"
  },
  "rise": {
   "auto_select": "code",
   "scroll": true,
   "theme": "night"
  }
 },
 "nbformat": 4,
 "nbformat_minor": 4
}
